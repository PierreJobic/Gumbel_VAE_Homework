{
  "nbformat": 4,
  "nbformat_minor": 0,
  "metadata": {
    "colab": {
      "name": "VAE_clustering_empty.ipynb",
      "version": "0.3.2",
      "provenance": [],
      "collapsed_sections": []
    },
    "kernelspec": {
      "name": "python3",
      "display_name": "Python 3"
    },
    "accelerator": "GPU"
  },
  "cells": [
    {
      "metadata": {
        "id": "_8ukRwk-QxbY",
        "colab_type": "text"
      },
      "cell_type": "markdown",
      "source": [
        "# VAE for MNIST clustering and generation\n",
        "\n",
        "The goal of this notebook is to explore some recent works dealing with variational auto-encoder (VAE).\n",
        "\n",
        "We will use MNIST dataset and a basic VAE architecture. "
      ]
    },
    {
      "metadata": {
        "id": "qXJGXRfLSlvH",
        "colab_type": "code",
        "outputId": "d212c5e0-4953-4ca3-c1d4-694427bd2436",
        "colab": {
          "base_uri": "https://localhost:8080/",
          "height": 54
        }
      },
      "cell_type": "code",
      "source": [
        "# http://pytorch.org/\n",
        "from os import path\n",
        "from wheel.pep425tags import get_abbr_impl, get_impl_ver, get_abi_tag\n",
        "platform = '{}{}-{}'.format(get_abbr_impl(), get_impl_ver(), get_abi_tag())\n",
        "\n",
        "accelerator = 'cu80' if path.exists('/opt/bin/nvidia-smi') else 'cpu'\n",
        "\n",
        "!pip install -q http://download.pytorch.org/whl/{accelerator}/torch-0.4.1-{platform}-linux_x86_64.whl torchvision"
      ],
      "execution_count": 1,
      "outputs": [
        {
          "output_type": "stream",
          "text": [
            "tcmalloc: large alloc 1073750016 bytes == 0x570b8000 @  0x7fb538bfb2a4 0x594e17 0x626104 0x51190a 0x4f5277 0x510c78 0x5119bd 0x4f5277 0x4f3338 0x510fb0 0x5119bd 0x4f5277 0x4f3338 0x510fb0 0x5119bd 0x4f5277 0x4f3338 0x510fb0 0x5119bd 0x4f6070 0x510c78 0x5119bd 0x4f5277 0x4f3338 0x510fb0 0x5119bd 0x4f6070 0x4f3338 0x510fb0 0x5119bd 0x4f6070\n"
          ],
          "name": "stdout"
        }
      ]
    },
    {
      "metadata": {
        "id": "hp72MdbxV02_",
        "colab_type": "code",
        "outputId": "146f7f1f-77c6-4159-966d-985c9bfbac7e",
        "colab": {
          "base_uri": "https://localhost:8080/",
          "height": 50
        }
      },
      "cell_type": "code",
      "source": [
        "import torch\n",
        "print(torch.__version__)\n",
        "print(accelerator)"
      ],
      "execution_count": 2,
      "outputs": [
        {
          "output_type": "stream",
          "text": [
            "0.4.1\n",
            "cu80\n"
          ],
          "name": "stdout"
        }
      ]
    },
    {
      "metadata": {
        "id": "uuI1UOySQxbb",
        "colab_type": "code",
        "colab": {}
      },
      "cell_type": "code",
      "source": [
        "import os\n",
        "import torch\n",
        "import torch.nn as nn\n",
        "import torch.nn.functional as F\n",
        "import torchvision\n",
        "from torchvision import transforms\n",
        "from torchvision.utils import save_image\n",
        "\n",
        "import numpy as np\n",
        "import matplotlib.pyplot as plt\n",
        "%matplotlib inline\n",
        "\n",
        "from sklearn.metrics.cluster import normalized_mutual_info_score\n",
        "\n",
        "def show(img):\n",
        "    npimg = img.numpy()\n",
        "    plt.imshow(np.transpose(npimg, (1,2,0)), interpolation='nearest')"
      ],
      "execution_count": 0,
      "outputs": []
    },
    {
      "metadata": {
        "id": "NQgJp-uyQxbh",
        "colab_type": "code",
        "colab": {}
      },
      "cell_type": "code",
      "source": [
        "# Device configuration\n",
        "device = torch.device('cuda' if torch.cuda.is_available() else 'cpu')\n",
        "\n",
        "# Create a directory if not exists\n",
        "sample_dir = 'samples'\n",
        "if not os.path.exists(sample_dir):\n",
        "    os.makedirs(sample_dir)"
      ],
      "execution_count": 0,
      "outputs": []
    },
    {
      "metadata": {
        "id": "21wd7e0_Qxbl",
        "colab_type": "code",
        "outputId": "9fb784e5-6dc1-4c85-c6af-9bf0aa52de45",
        "colab": {
          "base_uri": "https://localhost:8080/",
          "height": 118
        }
      },
      "cell_type": "code",
      "source": [
        "batch_size = 128\n",
        "#to be modified\n",
        "data_dir = '/home/mlelarge/data'\n",
        "# MNIST dataset\n",
        "dataset = torchvision.datasets.MNIST(root=data_dir,\n",
        "                                     train=True,\n",
        "                                     transform=transforms.ToTensor(),\n",
        "                                     download=True)\n",
        "\n",
        "# Data loader\n",
        "data_loader = torch.utils.data.DataLoader(dataset=dataset,\n",
        "                                          batch_size=batch_size, \n",
        "                                          shuffle=True)\n",
        "\n",
        "test_loader = torch.utils.data.DataLoader(\n",
        "    torchvision.datasets.MNIST(data_dir, train=False, download=True, transform=transforms.ToTensor()),\n",
        "    batch_size=10, shuffle=False)"
      ],
      "execution_count": 5,
      "outputs": [
        {
          "output_type": "stream",
          "text": [
            "Downloading http://yann.lecun.com/exdb/mnist/train-images-idx3-ubyte.gz\n",
            "Downloading http://yann.lecun.com/exdb/mnist/train-labels-idx1-ubyte.gz\n",
            "Downloading http://yann.lecun.com/exdb/mnist/t10k-images-idx3-ubyte.gz\n",
            "Downloading http://yann.lecun.com/exdb/mnist/t10k-labels-idx1-ubyte.gz\n",
            "Processing...\n",
            "Done!\n"
          ],
          "name": "stdout"
        }
      ]
    },
    {
      "metadata": {
        "id": "WJTwMcR7Qxbp",
        "colab_type": "text"
      },
      "cell_type": "markdown",
      "source": [
        "# Variational Autoencoders\n",
        "\n",
        "Consider a latent variable model with a data variable $x\\in \\mathcal{X}$ and a latent variable $z\\in \\mathcal{Z}$, $p(z,x) = p(z)p_\\theta(x|z)$. Given the data $x_1,\\dots, x_n$, we want to train the model by maximizing the marginal log-likelihood:\n",
        "\\begin{eqnarray*}\n",
        "\\mathcal{L} = \\mathbf{E}_{p_d(x)}\\left[\\log p_\\theta(x)\\right]=\\mathbf{E}_{p_d(x)}\\left[\\log \\int_{\\mathcal{Z}}p_{\\theta}(x|z)p(z)dz\\right],\n",
        "  \\end{eqnarray*}\n",
        "  where $p_d$ denotes the empirical distribution of $X$: $p_d(x) =\\frac{1}{n}\\sum_{i=1}^n \\delta_{x_i}(x)$.\n",
        "\n",
        " To avoid the (often) difficult computation of the integral above, the idea behind variational methods is to instea maximize a lower bound to the log-likelihood:\n",
        "  \\begin{eqnarray*}\n",
        "\\mathcal{L} \\geq L(p_\\theta(x|z),q(z|x)) =\\mathbf{E}_{p_d(x)}\\left[\\mathbf{E}_{q(z|x)}\\left[\\log p_\\theta(x|z)\\right]-\\mathrm{KL}\\left( q(z|x)||p(z)\\right)\\right].\n",
        "  \\end{eqnarray*}\n",
        "  Any choice of $q(z|x)$ gives a valid lower bound. Variational autoencoders replace the variational posterior $q(z|x)$ by an inference network $q_{\\phi}(z|x)$ that is trained together with $p_{\\theta}(x|z)$ to jointly maximize $L(p_\\theta,q_\\phi)$. The variational posterior $q_{\\phi}(z|x)$ is also called the encoder and the generative model $p_{\\theta}(x|z)$, the decoder or generator.\n",
        "\n",
        "The first term $\\mathbf{E}_{q(z|x)}\\left[\\log p_\\theta(x|z)\\right]$ is the negative reconstruction error. Indeed under a gaussian assumption i.e. $p_{\\theta}(x|z) = \\mathcal{N}(\\mu_{\\theta}(z), 1)$ the term $\\log p_\\theta(x|z)$ reduced to $\\propto \\|x-\\mu_\\theta(z)\\|^2$, which is often used in practice. The term $\\mathrm{KL}\\left( q(z|x)||p(z)\\right)$ can be seen as a regularization term, where the variational posterior $q_\\phi(z|x)$ should be matched to the prior $p(z)= \\mathcal{N}(0,1)$.\n",
        "\n",
        "Variational Autoencoders were introduced by [Kingma and Welling](https://arxiv.org/abs/1312.6114), see also [Doersch](https://arxiv.org/abs/1606.05908) for a tutorial.\n",
        "\n",
        "There are vairous examples of VAE in pytorch available [here](https://github.com/pytorch/examples/tree/master/vae) or [here](https://github.com/yunjey/pytorch-tutorial/blob/master/tutorials/03-advanced/variational_autoencoder/main.py#L38-L65). The code below is taken from this last source."
      ]
    },
    {
      "metadata": {
        "id": "kEgqVJm2Qxbr",
        "colab_type": "code",
        "colab": {}
      },
      "cell_type": "code",
      "source": [
        "# Hyper-parameters\n",
        "image_size = 784\n",
        "h_dim = 400\n",
        "z_dim = 20\n",
        "num_epochs = 15\n",
        "learning_rate = 1e-3\n",
        "\n",
        "# VAE model\n",
        "class VAE(nn.Module):\n",
        "    def __init__(self, image_size=784, h_dim=400, z_dim=20):\n",
        "        super(VAE, self).__init__()\n",
        "        self.fc1 = nn.Linear(image_size, h_dim)\n",
        "        self.fc2 = nn.Linear(h_dim, z_dim)\n",
        "        self.fc3 = nn.Linear(h_dim, z_dim)\n",
        "        \n",
        "        self.fc4 = nn.Linear(z_dim, h_dim)\n",
        "        self.fc5 = nn.Linear(h_dim, image_size)\n",
        "        \n",
        "    def encode(self, x):\n",
        "        h = F.relu(self.fc1(x))\n",
        "        return self.fc2(h), self.fc3(h)\n",
        "    \n",
        "    def reparameterize(self, mu, log_var):\n",
        "        std = torch.exp(log_var/2)\n",
        "        eps = torch.randn_like(std)\n",
        "        return mu + eps * std\n",
        "\n",
        "    def decode(self, z):\n",
        "        h = F.relu(self.fc4(z))\n",
        "        return torch.sigmoid(self.fc5(h))\n",
        "    \n",
        "    def forward(self, x):\n",
        "        mu, log_var = self.encode(x)\n",
        "        z = self.reparameterize(mu, log_var)\n",
        "        x_reconst = self.decode(z)\n",
        "        return x_reconst, mu, log_var\n",
        "\n",
        "model = VAE().to(device)\n",
        "optimizer = torch.optim.Adam(model.parameters(), lr=learning_rate)"
      ],
      "execution_count": 0,
      "outputs": []
    },
    {
      "metadata": {
        "id": "ayCxgmMQQxbu",
        "colab_type": "text"
      },
      "cell_type": "markdown",
      "source": [
        "Here for the loss, instead of MSE for the reconstruction loss, we take BCE. The code below is still from the pytorch tutorial (with minor modifications to avoid warnings!)."
      ]
    },
    {
      "metadata": {
        "id": "BSewmKEdQxbv",
        "colab_type": "code",
        "colab": {}
      },
      "cell_type": "code",
      "source": [
        "# Start training\n",
        "for epoch in range(num_epochs):\n",
        "    for i, (x, _) in enumerate(data_loader):\n",
        "        # Forward pass\n",
        "        x = x.to(device).view(-1, image_size)\n",
        "        x_reconst, mu, log_var = model(x)\n",
        "        \n",
        "        # Compute reconstruction loss and kl divergence\n",
        "        # For KL divergence, see Appendix B in VAE paper\n",
        "        reconst_loss = F.binary_cross_entropy(x_reconst, x, reduction='sum')\n",
        "        kl_div = - 0.5 * torch.sum(1 + log_var - mu.pow(2) - log_var.exp())\n",
        "        \n",
        "        # Backprop and optimize\n",
        "        loss = reconst_loss + kl_div\n",
        "        optimizer.zero_grad()\n",
        "        loss.backward()\n",
        "        optimizer.step()\n",
        "        \n",
        "        if (i+1) % 10 == 0:\n",
        "            print (\"Epoch[{}/{}], Step [{}/{}], Reconst Loss: {:.4f}, KL Div: {:.4f}\" \n",
        "                   .format(epoch+1, num_epochs, i+1, len(data_loader), reconst_loss.item()/batch_size, kl_div.item()/batch_size))"
      ],
      "execution_count": 0,
      "outputs": []
    },
    {
      "metadata": {
        "id": "OKALOJ7_Qxbx",
        "colab_type": "text"
      },
      "cell_type": "markdown",
      "source": [
        "Let see how our network reconstructs our last batch. We display pairs of original digits and reconstructed version."
      ]
    },
    {
      "metadata": {
        "id": "H7_U6zg2Qxbx",
        "colab_type": "code",
        "colab": {}
      },
      "cell_type": "code",
      "source": [
        "mu, _ = model.encode(x) \n",
        "out = model.decode(mu)\n",
        "x_concat = torch.cat([x.view(-1, 1, 28, 28), out.view(-1, 1, 28, 28)], dim=3)\n",
        "out_grid = torchvision.utils.make_grid(x_concat).cpu().data\n",
        "show(out_grid)"
      ],
      "execution_count": 0,
      "outputs": []
    },
    {
      "metadata": {
        "id": "Mz6ENgFNQxb1",
        "colab_type": "text"
      },
      "cell_type": "markdown",
      "source": [
        "Let see now, how our network generates new samples."
      ]
    },
    {
      "metadata": {
        "id": "bP3bLwcPQxb2",
        "colab_type": "code",
        "colab": {}
      },
      "cell_type": "code",
      "source": [
        "with torch.no_grad():\n",
        "        z = torch.randn(16, z_dim).to(device)\n",
        "        out = model.decode(z).view(-1, 1, 28, 28)\n",
        "\n",
        "out_grid = torchvision.utils.make_grid(out).cpu()\n",
        "show(out_grid)"
      ],
      "execution_count": 0,
      "outputs": []
    },
    {
      "metadata": {
        "id": "_Spc82qLQxb6",
        "colab_type": "text"
      },
      "cell_type": "markdown",
      "source": [
        "Not great, but we did not train our network for long... That being said, we have no control of the generated digits. In the rest of this jupyter, we explore ways to generates zeros, ones, twos and so on. As a by product, we show how our VAE will allow us to do clustering.\n",
        "\n",
        "The main idea is to build what we call a Gumbel VAE as described below."
      ]
    },
    {
      "metadata": {
        "id": "41OFXM4tQxb6",
        "colab_type": "text"
      },
      "cell_type": "markdown",
      "source": [
        "# Gumbel VAE\n",
        "\n",
        "Implement a VAE where you add a categorical variable $c\\in \\{0,\\dots 9\\}$ so that your latent variable model is $p(c,z,x) = p(c)p(z)p_{\\theta}(x|,c,z)$ and your variational posterior is $q_{\\phi}(c|x)q_{\\phi}(z|x)$ as described in this NIPS [paper](https://arxiv.org/abs/1804.00104). Make minimal modifications to previous architecture...\n",
        "\n",
        "The idea is that you incorporates a categorical variable in your latent space. You hope that this categorical variable will encode the class of the digit, so that your network can use it for a better reconstruction. Moreover, if things work as planed, you will then be able to generate digits conditionally to the class, i.e. you can choose the class thanks to the latent categorical variable $c$ and then generate digits from this class.\n",
        "\n",
        "As noticed above, in order to sample random variables while still being able to use backpropagation required us to use the reparameterization trick which is easy for Gaussian random variables. For categorical random variables, the reparameterization trick is explained in this [paper](https://arxiv.org/abs/1611.01144). This is implemented in pytorch thanks to [F.gumbel_softmax](https://pytorch.org/docs/stable/nn.html?highlight=gumbel_softmax#torch.nn.functional.gumbel_softmax)"
      ]
    },
    {
      "metadata": {
        "id": "Xk_Fcd-kQxb7",
        "colab_type": "code",
        "colab": {}
      },
      "cell_type": "code",
      "source": [
        "n_classes = 10\n",
        "\n",
        "class VAE_Gumbel(nn.Module):\n",
        "    def __init__(self, image_size=784, h_dim=400, z_dim=20, n_classes = 10):\n",
        "        super(VAE_Gumbel, self).__init__()\n",
        "        #\n",
        "        # your code here\n",
        "        self.fc1 = nn.Linear(image_size, h_dim)\n",
        "        self.fc2 = nn.Linear(h_dim, z_dim)\n",
        "        self.fc3 = nn.Linear(h_dim, z_dim)\n",
        "        \n",
        "        ## I add a layer to encode the category class\n",
        "        self.fc4 = nn.Linear(h_dim, n_classes)\n",
        "\n",
        "        self.fc5 = nn.Linear(z_dim + n_classes, h_dim)\n",
        "        self.fc6 = nn.Linear(h_dim, image_size)\n",
        "        #\n",
        "        \n",
        "    def encode(self, x):\n",
        "        #\n",
        "        # your code here / use F.log_softmax\n",
        "        h = F.relu(self.fc1(x))\n",
        "        \n",
        "        h_1 = self.fc2(h)\n",
        "        h_2 = self.fc3(h)\n",
        "        c = self.fc4(h)\n",
        "        c = F.log_softmax(c, dim=1)\n",
        "        return h_1, h_2, c\n",
        "        #\n",
        "    \n",
        "    def reparameterize(self, mu, log_var):\n",
        "        std = torch.exp(log_var/2)\n",
        "        eps = torch.randn_like(std)\n",
        "        return mu + eps * std\n",
        "\n",
        "    def decode(self, z, y_onehot):\n",
        "        #\n",
        "        # your code here / use torch.cat\n",
        "        h = F.relu(self.fc5(torch.cat((z, y_onehot), dim=1)))\n",
        "        return torch.sigmoid(self.fc6(h))\n",
        "        #\n",
        "    \n",
        "    def forward(self, x):\n",
        "        #\n",
        "        # your code here / use F.gumbel_softmax\n",
        "        mu, log_var, y_onehot = self.encode(x)\n",
        "        z = self.reparameterize(mu, log_var)\n",
        "        x_reconst = self.decode(z, F.gumbel_softmax(y_onehot))\n",
        "        return x_reconst, mu, log_var, y_onehot\n",
        "        #\n",
        "\n",
        "model_G = VAE_Gumbel().to(device)\n",
        "optimizer = torch.optim.Adam(model_G.parameters(), lr=learning_rate)"
      ],
      "execution_count": 0,
      "outputs": []
    },
    {
      "metadata": {
        "id": "dfPcKYFaQxb_",
        "colab_type": "text"
      },
      "cell_type": "markdown",
      "source": [
        "You need to modify the loss to take into account the categorical random variable with an uniform prior on $\\{0,\\dots 9\\}$, see Appendix A.2 in the NIPS [paper](https://arxiv.org/abs/1804.00104)"
      ]
    },
    {
      "metadata": {
        "id": "p1KjI-tuQxcA",
        "colab_type": "code",
        "colab": {}
      },
      "cell_type": "code",
      "source": [
        "def train_G(model, data_loader=data_loader,num_epochs=num_epochs, beta = 1., verbose=True):\n",
        "    model.train(True)\n",
        "    for epoch in range(num_epochs):\n",
        "        all_labels = []\n",
        "        all_labels_est = []\n",
        "        for i, (x, labels) in enumerate(data_loader):\n",
        "            # Forward pass\n",
        "            x = x.to(device).view(-1, image_size)\n",
        "            #\n",
        "            # your code here\n",
        "            x_reconst, mu, log_var, y_onehot = model(x)\n",
        "            \n",
        "            ## Transform labels into one_hot encoding to use as mask for kl_div of y_onehot||labels\n",
        "            labels_onehot = torch.FloatTensor(labels.size(0), 10)\n",
        "            labels_onehot.zero_()\n",
        "            labels_onehot.scatter_(1, labels.view(-1,1), 1)\n",
        "            # \n",
        "\n",
        "            reconst_loss = F.binary_cross_entropy(x_reconst, x, reduction='sum')\n",
        "            #\n",
        "            # your code here\n",
        "            kl_div_z = - 0.5 * torch.sum(1 + log_var - mu.pow(2) - log_var.exp())\n",
        "            ## Like said in the Forum, to minimize KL_div_c we need to minize -log(p(c=i|x))\n",
        "            ## So i transformed labels into labels_onehot encoding so that the multiplication between y_onehot and labels_onehot\n",
        "            ## keeps only these -log(p(c=i|x)) and the computation is fast because it is a multiplication\n",
        "            kl_div_c = - torch.sum(y_onehot * labels_onehot.to(device))\n",
        "            #\n",
        "         \n",
        "            # Backprop and optimize\n",
        "            loss = reconst_loss + beta * (kl_div_z + kl_div_c) # your code here\n",
        "            optimizer.zero_grad()\n",
        "            loss.backward()\n",
        "            optimizer.step()\n",
        "            \n",
        "            if verbose:\n",
        "                if (i+1) % 10 == 0:\n",
        "                    print (\"Epoch[{}/{}], Step [{}/{}], Reconst Loss: {:.4f}, KL Div: {:.4f}, Entropy: {:.4f}\" \n",
        "                           .format(epoch+1, num_epochs, i+1, len(data_loader), reconst_loss.item()/batch_size,\n",
        "                                   kl_div_z.item()/batch_size, kl_div_c.item()/batch_size))"
      ],
      "execution_count": 0,
      "outputs": []
    },
    {
      "metadata": {
        "id": "mWw1ip4MQxcC",
        "colab_type": "code",
        "colab": {}
      },
      "cell_type": "code",
      "source": [
        "train_G(model_G,num_epochs=10,verbose=True)"
      ],
      "execution_count": 0,
      "outputs": []
    },
    {
      "metadata": {
        "id": "wr7gaaMxQxcE",
        "colab_type": "code",
        "colab": {}
      },
      "cell_type": "code",
      "source": [
        "x,_ = next(iter(data_loader))\n",
        "x = x[:24,:,:,:].to(device)\n",
        "out, _, _, log_p = model_G(x.view(-1, image_size)) \n",
        "x_concat = torch.cat([x.view(-1, 1, 28, 28), out.view(-1, 1, 28, 28)], dim=3)\n",
        "out_grid = torchvision.utils.make_grid(x_concat).cpu().data\n",
        "show(out_grid)"
      ],
      "execution_count": 0,
      "outputs": []
    },
    {
      "metadata": {
        "id": "HJPS7IiAQxcG",
        "colab_type": "text"
      },
      "cell_type": "markdown",
      "source": [
        "This was for reconstruction, but we care more about generation. For each category, we are generating 8 samples thanks to the following matrix, so that in the end, we should have on each line only one digit represented."
      ]
    },
    {
      "metadata": {
        "id": "RfJgP61RQxcH",
        "colab_type": "code",
        "colab": {}
      },
      "cell_type": "code",
      "source": [
        "matrix = np.zeros((8,n_classes))\n",
        "matrix[:,0] = 1\n",
        "final = matrix[:]\n",
        "for i in range(1,n_classes):\n",
        "    final = np.vstack((final,np.roll(matrix,i)))"
      ],
      "execution_count": 0,
      "outputs": []
    },
    {
      "metadata": {
        "id": "r3FaETEvQxcJ",
        "colab_type": "code",
        "colab": {}
      },
      "cell_type": "code",
      "source": [
        "with torch.no_grad():\n",
        "        z = torch.randn(8*n_classes, z_dim).to(device)\n",
        "        y_onehot = torch.tensor(final).type(torch.FloatTensor).to(device)\n",
        "        out = model_G.decode(z,y_onehot).view(-1, 1, 28, 28)\n",
        "\n",
        "out_grid = torchvision.utils.make_grid(out).cpu()\n",
        "show(out_grid)"
      ],
      "execution_count": 0,
      "outputs": []
    },
    {
      "metadata": {
        "id": "OsdQDerIQxcL",
        "colab_type": "text"
      },
      "cell_type": "markdown",
      "source": [
        "It does not look like our original idea is working...\n",
        "\n",
        "To check that our network is not using the categorical variable, we can track the [normalized mutual information](http://scikit-learn.org/stable/modules/generated/sklearn.metrics.normalized_mutual_info_score.html) between the true labels and the labels 'predicted' by our network (just by taking the category with maximal probability). Change your training loop to return the normalized mutual information (NMI) for each epoch. Plot the curve to check that the NMI is actually decreasing."
      ]
    },
    {
      "metadata": {
        "id": "GE-E_I5saroc",
        "colab_type": "code",
        "colab": {}
      },
      "cell_type": "code",
      "source": [
        "model_G = VAE_Gumbel().to(device)\n",
        "optimizer = torch.optim.Adam(model_G.parameters(), lr=learning_rate)"
      ],
      "execution_count": 0,
      "outputs": []
    },
    {
      "metadata": {
        "id": "ZUOPHuoEN6OT",
        "colab_type": "code",
        "colab": {}
      },
      "cell_type": "code",
      "source": [
        "def train_G_NMI(model, data_loader=data_loader,num_epochs=num_epochs, beta = 1.0, verbose=True):\n",
        "    model.train(True)\n",
        "    NMI = []\n",
        "    for epoch in range(num_epochs):\n",
        "        all_labels = []\n",
        "        all_labels_est = []\n",
        "        for i, (x, labels) in enumerate(data_loader):\n",
        "            # Forward pass\n",
        "            x = x.to(device).view(-1, image_size)\n",
        "            x_reconst, mu, log_var, y_onehot = model(x)\n",
        "            \n",
        "            # Transform labels into one_hot encoding to compare with latent distribution y_onehot\n",
        "            labels_onehot = torch.FloatTensor(labels.size(0), 10)\n",
        "            labels_onehot.zero_()\n",
        "            labels_onehot.scatter_(1, labels.view(-1,1), 1)\n",
        "            \n",
        "            \n",
        "            reconst_loss = F.binary_cross_entropy(x_reconst, x, reduction='sum')\n",
        "            kl_div_z = - 0.5 * torch.sum(1 + log_var - mu.pow(2) - log_var.exp())\n",
        "            kl_div_c = - torch.sum(y_onehot * labels_onehot.to(device))\n",
        "            \n",
        "            # Backprop and optimize\n",
        "            loss = reconst_loss + beta * (kl_div_z + kl_div_c) # your code here\n",
        "            optimizer.zero_grad()\n",
        "            loss.backward()\n",
        "            optimizer.step()\n",
        "            \n",
        "            if verbose:\n",
        "                if (i+1) % 10 == 0:\n",
        "                    NMI_print = normalized_mutual_info_score(labels.detach().cpu().numpy(), torch.max(y_onehot, dim=1)[1].detach().cpu().numpy())\n",
        "                    NMI.append(NMI_print)\n",
        "                    print (\"Epoch[{}/{}], Step [{}/{}], Reconst Loss: {:.4f}, KL Div: {:.4f}, Entropy: {:.4f}, NMI: {:.4f}\" \n",
        "                           .format(epoch+1, num_epochs, i+1, len(data_loader), reconst_loss.item()/batch_size,\n",
        "                                   kl_div_z.item()/batch_size, kl_div_c.item()/batch_size, NMI_print))\n",
        "    return NMI"
      ],
      "execution_count": 0,
      "outputs": []
    },
    {
      "metadata": {
        "id": "LCur4PeWOeNH",
        "colab_type": "code",
        "colab": {}
      },
      "cell_type": "code",
      "source": [
        "NMI = train_G_NMI(model_G,num_epochs=10,verbose=True)"
      ],
      "execution_count": 0,
      "outputs": []
    },
    {
      "metadata": {
        "id": "rOW3uhHkcj4f",
        "colab_type": "code",
        "colab": {}
      },
      "cell_type": "code",
      "source": [
        "plt.plot(NMI)\n",
        "\n",
        "## NMI is increasing but I think it is normal. Because as we can see on the generation image ( the last figure ), \n",
        "## we see that 1 is almost recognized ( the second row ) and the other rows are not completely random ( last row looks like 9 ).\n",
        "## It means that our network learnt some categorical information but it is not enough to have a good generation. Lets see what happen in next section"
      ],
      "execution_count": 0,
      "outputs": []
    },
    {
      "metadata": {
        "id": "UR_kmvQAQxcM",
        "colab_type": "text"
      },
      "cell_type": "markdown",
      "source": [
        "In order to force our network to use the categorical variable, we will change the loss following this ICLR [paper](https://openreview.net/forum?id=Sy2fzU9gl)\n",
        "\n",
        "Implement this change in the training loop and plot the new NMI curve after 10 epochs. For $\\beta = 20$, you should see that NMI increases. But reconstruction starts to be bad and generation is still poor.\n",
        "\n",
        "This is explained in this [paper](https://arxiv.org/abs/1804.03599) and a solution is proposed see Section 5. Implement the solution described in Section 3 equation (7) if the NIPS [paper](https://arxiv.org/abs/1804.00104) "
      ]
    },
    {
      "metadata": {
        "id": "S22JHPXLg93T",
        "colab_type": "code",
        "colab": {}
      },
      "cell_type": "code",
      "source": [
        "model_G = VAE_Gumbel().to(device)\n",
        "optimizer = torch.optim.Adam(model_G.parameters(), lr=learning_rate)\n",
        "def train_G_NMI_beta20(model, data_loader=data_loader,num_epochs=num_epochs, beta = 20., verbose=True):\n",
        "    model.train(True)\n",
        "    NMI = []\n",
        "    for epoch in range(num_epochs):\n",
        "        all_labels = []\n",
        "        all_labels_est = []\n",
        "        for i, (x, labels) in enumerate(data_loader):\n",
        "            # Forward pass\n",
        "            x = x.to(device).view(-1, image_size)\n",
        "            x_reconst, mu, log_var, y_onehot = model(x)\n",
        "            \n",
        "            # Transform labels into one_hot encoding to compare with latent distribution y_onehot\n",
        "            labels_onehot = torch.FloatTensor(labels.size(0), 10)\n",
        "            labels_onehot.zero_()\n",
        "            labels_onehot.scatter_(1, labels.view(-1,1), 1)\n",
        "            \n",
        "            \n",
        "            reconst_loss = F.binary_cross_entropy(x_reconst, x, reduction='sum')\n",
        "            kl_div_z = - 0.5 * torch.sum(1 + log_var - mu.pow(2) - log_var.exp())\n",
        "            kl_div_c = - torch.sum(y_onehot * labels_onehot.to(device))\n",
        "            \n",
        "            # Backprop and optimize\n",
        "            loss = reconst_loss + beta * (kl_div_z + kl_div_c) # your code here\n",
        "            optimizer.zero_grad()\n",
        "            loss.backward()\n",
        "            optimizer.step()\n",
        "            \n",
        "            if verbose:\n",
        "                if (i+1) % 10 == 0:\n",
        "                    NMI_print = normalized_mutual_info_score(labels.detach().cpu().numpy(), torch.max(y_onehot, dim=1)[1].detach().cpu().numpy())\n",
        "                    NMI.append(NMI_print)\n",
        "                   \n",
        "    plt.plot(NMI)\n",
        "    plt.show()\n",
        "    \n",
        "train_G_NMI_beta20(model_G,num_epochs=10,verbose=True)"
      ],
      "execution_count": 0,
      "outputs": []
    },
    {
      "metadata": {
        "id": "IfOx5MNZftQM",
        "colab_type": "text"
      },
      "cell_type": "markdown",
      "source": [
        "Here the NMI is closer to 1 compared to the last one. Hence our network learned more categorical information"
      ]
    },
    {
      "metadata": {
        "id": "0LHfwabwikTk",
        "colab_type": "code",
        "colab": {}
      },
      "cell_type": "code",
      "source": [
        "x,_ = next(iter(data_loader))\n",
        "x = x[:24,:,:,:].to(device)\n",
        "out, _, _, log_p = model_G(x.view(-1, image_size)) \n",
        "x_concat = torch.cat([x.view(-1, 1, 28, 28), out.view(-1, 1, 28, 28)], dim=3)\n",
        "out_grid = torchvision.utils.make_grid(x_concat).cpu().data\n",
        "show(out_grid)"
      ],
      "execution_count": 0,
      "outputs": []
    },
    {
      "metadata": {
        "id": "mUeeknUhf5yw",
        "colab_type": "text"
      },
      "cell_type": "markdown",
      "source": [
        "The reconstruction is bad, digits look more like ghost digits"
      ]
    },
    {
      "metadata": {
        "id": "eIrfzWGZioVC",
        "colab_type": "code",
        "colab": {}
      },
      "cell_type": "code",
      "source": [
        "with torch.no_grad():\n",
        "        z = torch.randn(8*n_classes, z_dim).to(device)\n",
        "        y_onehot = torch.tensor(final).type(torch.FloatTensor).to(device)\n",
        "        out = model_G.decode(z,y_onehot).view(-1, 1, 28, 28)\n",
        "\n",
        "out_grid = torchvision.utils.make_grid(out).cpu()\n",
        "show(out_grid)"
      ],
      "execution_count": 0,
      "outputs": []
    },
    {
      "metadata": {
        "id": "AA3LPNnwgMZk",
        "colab_type": "text"
      },
      "cell_type": "markdown",
      "source": [
        "Generation is quite good but digits still look like ghost digits which is not what we want."
      ]
    },
    {
      "metadata": {
        "id": "M_AjvD9ci1G7",
        "colab_type": "text"
      },
      "cell_type": "markdown",
      "source": [
        "# Solution proposed in Section 5 of NIPS paper"
      ]
    },
    {
      "metadata": {
        "id": "qcqu3nV4QxcN",
        "colab_type": "code",
        "colab": {}
      },
      "cell_type": "code",
      "source": [
        "model_G = VAE_Gumbel().to(device)\n",
        "optimizer = torch.optim.Adam(model_G.parameters(), lr=learning_rate)"
      ],
      "execution_count": 0,
      "outputs": []
    },
    {
      "metadata": {
        "id": "9W6Iw7i1QxcQ",
        "colab_type": "code",
        "colab": {}
      },
      "cell_type": "code",
      "source": [
        "# proposed value for MNIST in the paper:\n",
        "# beta = 30\n",
        "# C_z = 0 to 5 in 25000 iterations\n",
        "# C_c = 0 to 5 in 25000 iterations\n",
        "\n",
        "def train_G_modified_loss(model, data_loader=data_loader,num_epochs=num_epochs, beta=30. , C_z_fin=5., C_c_fin=5., verbose=True):\n",
        "    #\n",
        "    # your code here\n",
        "    model.train(True)\n",
        "    NMI = []\n",
        "    C_z = 0\n",
        "    C_c = 0\n",
        "    C = num_epochs * len(data_loader)\n",
        "    for epoch in range(num_epochs):\n",
        "        all_labels = []\n",
        "        all_labels_est = []\n",
        "        for i, (x, labels) in enumerate(data_loader):\n",
        "          \n",
        "            # Forward pass\n",
        "            x = x.to(device).view(-1, image_size)\n",
        "            x_reconst, mu, log_var, y_onehot = model(x)\n",
        "            \n",
        "            # Transform labels into one_hot encoding to compare with latent distribution y_onehot\n",
        "            labels_onehot = torch.FloatTensor(labels.size(0), 10)\n",
        "            labels_onehot.zero_()\n",
        "            labels_onehot.scatter_(1, labels.view(-1,1), 1)\n",
        "            \n",
        "            \n",
        "            reconst_loss = F.binary_cross_entropy(x_reconst, x, reduction='sum')\n",
        "            kl_div_z = - 0.5 * torch.sum(1 + log_var - mu.pow(2) - log_var.exp())\n",
        "            kl_div_c = - torch.sum(y_onehot * labels_onehot.to(device))\n",
        "            \n",
        "            # Backprop and optimize\n",
        "            loss = reconst_loss + beta * (abs(kl_div_z - C_z)  + abs(kl_div_c - C_c)) # your code here\n",
        "            optimizer.zero_grad()\n",
        "            loss.backward()\n",
        "            optimizer.step()\n",
        "            C_z += C_z_fin/C\n",
        "            C_c += C_c_fin/C\n",
        "            \n",
        "            if verbose:\n",
        "                if (i+1) % 10 == 0:\n",
        "                    NMI_print = normalized_mutual_info_score(labels.detach().cpu().numpy(), torch.max(y_onehot, dim=1)[1].detach().cpu().numpy())\n",
        "                    NMI.append(NMI_print)\n",
        "                    print (\"Epoch[{}/{}], Step [{}/{}], Reconst Loss: {:.4f}, KL Div: {:.4f}, Entropy: {:.4f}, NMI: {:.4f}\" \n",
        "                           .format(epoch+1, num_epochs, i+1, len(data_loader), reconst_loss.item()/batch_size,\n",
        "                                   kl_div_z.item()/batch_size, kl_div_c.item()/batch_size, NMI_print))\n",
        "                    \n",
        "                   \n",
        "    return NMI\n",
        "    #"
      ],
      "execution_count": 0,
      "outputs": []
    },
    {
      "metadata": {
        "id": "w1_6OKuzlS7L",
        "colab_type": "code",
        "colab": {}
      },
      "cell_type": "code",
      "source": [
        "NMI = train_G_modified_loss(model_G,num_epochs=10,verbose=True)"
      ],
      "execution_count": 0,
      "outputs": []
    },
    {
      "metadata": {
        "id": "Jm5f7H1Vi0Ku",
        "colab_type": "code",
        "colab": {}
      },
      "cell_type": "code",
      "source": [
        "plt.plot(NMI)\n",
        "plt.show()"
      ],
      "execution_count": 0,
      "outputs": []
    },
    {
      "metadata": {
        "id": "3PbYbOYjQxcU",
        "colab_type": "code",
        "colab": {}
      },
      "cell_type": "code",
      "source": [
        "with torch.no_grad():\n",
        "        z = torch.randn(8*n_classes, z_dim).to(device)\n",
        "        y_onehot = torch.tensor(final).type(torch.FloatTensor).to(device)\n",
        "        out = model_G.decode(z,y_onehot).view(-1, 1, 28, 28)\n",
        "out_grid = torchvision.utils.make_grid(out).cpu()\n",
        "show(out_grid)"
      ],
      "execution_count": 0,
      "outputs": []
    },
    {
      "metadata": {
        "id": "hbRKa9bHQxca",
        "colab_type": "code",
        "colab": {}
      },
      "cell_type": "code",
      "source": [
        "i = 1\n",
        "with torch.no_grad():\n",
        "    plt.plot()\n",
        "    z = torch.randn(8, z_dim).to(device)\n",
        "    y_onehot = torch.tensor(np.roll(matrix,i)).type(torch.FloatTensor).to(device)\n",
        "    out = model_G.decode(z,y_onehot).view(-1, 1, 28, 28)\n",
        "    out_grid = torchvision.utils.make_grid(out).cpu()\n",
        "    show(out_grid)"
      ],
      "execution_count": 0,
      "outputs": []
    },
    {
      "metadata": {
        "id": "NjgFFkhwQxcc",
        "colab_type": "code",
        "colab": {}
      },
      "cell_type": "code",
      "source": [
        "x,_ = next(iter(data_loader))\n",
        "x = x[:24,:,:,:].to(device)\n",
        "out, _, _, log_p = model_G(x.view(-1, image_size)) \n",
        "x_concat = torch.cat([x.view(-1, 1, 28, 28), out.view(-1, 1, 28, 28)], dim=3)\n",
        "out_grid = torchvision.utils.make_grid(x_concat).cpu().data\n",
        "show(out_grid)"
      ],
      "execution_count": 0,
      "outputs": []
    },
    {
      "metadata": {
        "id": "Lew61r-AmuW-",
        "colab_type": "code",
        "colab": {}
      },
      "cell_type": "code",
      "source": [
        ""
      ],
      "execution_count": 0,
      "outputs": []
    },
    {
      "metadata": {
        "id": "s1jF1O1A68W1",
        "colab_type": "text"
      },
      "cell_type": "markdown",
      "source": [
        "# Custom Solution ( different beta, C_z, C_c ) while keeping epochs to 10 to be comparable"
      ]
    },
    {
      "metadata": {
        "id": "5h4mqEk37D8h",
        "colab_type": "code",
        "colab": {
          "base_uri": "https://localhost:8080/",
          "height": 7745
        },
        "outputId": "6d4e6e18-1746-422a-a946-784c06dc0dce"
      },
      "cell_type": "code",
      "source": [
        "model_G = VAE_Gumbel().to(device)\n",
        "optimizer = torch.optim.Adam(model_G.parameters(), lr=learning_rate)\n",
        "NMI = train_G_modified_loss(model_G,num_epochs=10, beta = 4, C_z_fin=5., C_c_fin=10., verbose=True)"
      ],
      "execution_count": 47,
      "outputs": [
        {
          "output_type": "stream",
          "text": [
            "Epoch[1/10], Step [10/469], Reconst Loss: 319.0919, KL Div: 7.9159, Entropy: 2.0909, NMI: 0.4566\n",
            "Epoch[1/10], Step [20/469], Reconst Loss: 246.1782, KL Div: 3.6240, Entropy: 1.9570, NMI: 0.5667\n",
            "Epoch[1/10], Step [30/469], Reconst Loss: 222.5212, KL Div: 1.8979, Entropy: 1.8466, NMI: 0.6717\n",
            "Epoch[1/10], Step [40/469], Reconst Loss: 214.5994, KL Div: 1.5086, Entropy: 1.6266, NMI: 0.7246\n",
            "Epoch[1/10], Step [50/469], Reconst Loss: 209.2282, KL Div: 1.8736, Entropy: 1.2427, NMI: 0.7572\n",
            "Epoch[1/10], Step [60/469], Reconst Loss: 208.3428, KL Div: 1.8602, Entropy: 1.0526, NMI: 0.6532\n",
            "Epoch[1/10], Step [70/469], Reconst Loss: 204.4044, KL Div: 1.7307, Entropy: 0.9514, NMI: 0.6853\n",
            "Epoch[1/10], Step [80/469], Reconst Loss: 198.4633, KL Div: 2.4303, Entropy: 0.6005, NMI: 0.8396\n",
            "Epoch[1/10], Step [90/469], Reconst Loss: 190.4949, KL Div: 2.9288, Entropy: 0.6597, NMI: 0.7517\n",
            "Epoch[1/10], Step [100/469], Reconst Loss: 192.3248, KL Div: 2.7293, Entropy: 0.5043, NMI: 0.7974\n",
            "Epoch[1/10], Step [110/469], Reconst Loss: 186.6008, KL Div: 2.9163, Entropy: 0.5802, NMI: 0.8064\n",
            "Epoch[1/10], Step [120/469], Reconst Loss: 176.0044, KL Div: 3.2579, Entropy: 0.4304, NMI: 0.8590\n",
            "Epoch[1/10], Step [130/469], Reconst Loss: 176.1010, KL Div: 3.9192, Entropy: 0.4494, NMI: 0.8433\n",
            "Epoch[1/10], Step [140/469], Reconst Loss: 172.7367, KL Div: 3.6841, Entropy: 0.4032, NMI: 0.8407\n",
            "Epoch[1/10], Step [150/469], Reconst Loss: 165.9821, KL Div: 4.0343, Entropy: 0.4508, NMI: 0.8218\n",
            "Epoch[1/10], Step [160/469], Reconst Loss: 165.0764, KL Div: 4.3081, Entropy: 0.4091, NMI: 0.8216\n",
            "Epoch[1/10], Step [170/469], Reconst Loss: 163.0311, KL Div: 4.3766, Entropy: 0.4138, NMI: 0.8113\n",
            "Epoch[1/10], Step [180/469], Reconst Loss: 165.2760, KL Div: 4.4624, Entropy: 0.3522, NMI: 0.8173\n",
            "Epoch[1/10], Step [190/469], Reconst Loss: 157.6234, KL Div: 4.4326, Entropy: 0.2438, NMI: 0.9020\n",
            "Epoch[1/10], Step [200/469], Reconst Loss: 155.5146, KL Div: 4.3715, Entropy: 0.5431, NMI: 0.7699\n",
            "Epoch[1/10], Step [210/469], Reconst Loss: 158.2111, KL Div: 4.5256, Entropy: 0.3269, NMI: 0.8477\n",
            "Epoch[1/10], Step [220/469], Reconst Loss: 160.3487, KL Div: 4.6442, Entropy: 0.4902, NMI: 0.8431\n",
            "Epoch[1/10], Step [230/469], Reconst Loss: 154.6749, KL Div: 4.5570, Entropy: 0.3464, NMI: 0.8576\n",
            "Epoch[1/10], Step [240/469], Reconst Loss: 157.1408, KL Div: 4.8189, Entropy: 0.2885, NMI: 0.8494\n",
            "Epoch[1/10], Step [250/469], Reconst Loss: 155.0652, KL Div: 4.6474, Entropy: 0.4195, NMI: 0.8170\n",
            "Epoch[1/10], Step [260/469], Reconst Loss: 151.4466, KL Div: 4.6544, Entropy: 0.2774, NMI: 0.9152\n",
            "Epoch[1/10], Step [270/469], Reconst Loss: 151.6846, KL Div: 4.6411, Entropy: 0.2542, NMI: 0.9048\n",
            "Epoch[1/10], Step [280/469], Reconst Loss: 148.9489, KL Div: 4.8799, Entropy: 0.1856, NMI: 0.9512\n",
            "Epoch[1/10], Step [290/469], Reconst Loss: 146.5157, KL Div: 4.8128, Entropy: 0.2594, NMI: 0.8245\n",
            "Epoch[1/10], Step [300/469], Reconst Loss: 143.4244, KL Div: 4.7945, Entropy: 0.2832, NMI: 0.8926\n",
            "Epoch[1/10], Step [310/469], Reconst Loss: 148.1497, KL Div: 5.0311, Entropy: 0.3092, NMI: 0.8822\n",
            "Epoch[1/10], Step [320/469], Reconst Loss: 155.0154, KL Div: 5.1187, Entropy: 0.2354, NMI: 0.9009\n",
            "Epoch[1/10], Step [330/469], Reconst Loss: 142.3756, KL Div: 4.6603, Entropy: 0.3036, NMI: 0.8902\n",
            "Epoch[1/10], Step [340/469], Reconst Loss: 145.4803, KL Div: 4.8849, Entropy: 0.1391, NMI: 0.9084\n",
            "Epoch[1/10], Step [350/469], Reconst Loss: 149.6725, KL Div: 4.8248, Entropy: 0.2584, NMI: 0.8991\n",
            "Epoch[1/10], Step [360/469], Reconst Loss: 144.5560, KL Div: 4.7243, Entropy: 0.2710, NMI: 0.8659\n",
            "Epoch[1/10], Step [370/469], Reconst Loss: 140.9665, KL Div: 4.7681, Entropy: 0.2009, NMI: 0.9267\n",
            "Epoch[1/10], Step [380/469], Reconst Loss: 152.0221, KL Div: 4.8628, Entropy: 0.2894, NMI: 0.8822\n",
            "Epoch[1/10], Step [390/469], Reconst Loss: 149.2764, KL Div: 4.7948, Entropy: 0.1829, NMI: 0.9092\n",
            "Epoch[1/10], Step [400/469], Reconst Loss: 141.4567, KL Div: 4.8629, Entropy: 0.3726, NMI: 0.8610\n",
            "Epoch[1/10], Step [410/469], Reconst Loss: 134.7731, KL Div: 4.5581, Entropy: 0.2542, NMI: 0.8836\n",
            "Epoch[1/10], Step [420/469], Reconst Loss: 147.3178, KL Div: 5.2511, Entropy: 0.3658, NMI: 0.8619\n",
            "Epoch[1/10], Step [430/469], Reconst Loss: 146.8432, KL Div: 5.0698, Entropy: 0.2057, NMI: 0.8944\n",
            "Epoch[1/10], Step [440/469], Reconst Loss: 136.5230, KL Div: 4.9236, Entropy: 0.1775, NMI: 0.9294\n",
            "Epoch[1/10], Step [450/469], Reconst Loss: 142.8657, KL Div: 4.8603, Entropy: 0.3872, NMI: 0.8083\n",
            "Epoch[1/10], Step [460/469], Reconst Loss: 142.8616, KL Div: 5.0130, Entropy: 0.2665, NMI: 0.9033\n",
            "Epoch[2/10], Step [10/469], Reconst Loss: 137.3458, KL Div: 4.9678, Entropy: 0.2942, NMI: 0.8553\n",
            "Epoch[2/10], Step [20/469], Reconst Loss: 143.7926, KL Div: 4.6207, Entropy: 0.2700, NMI: 0.8896\n",
            "Epoch[2/10], Step [30/469], Reconst Loss: 137.1950, KL Div: 5.0475, Entropy: 0.1997, NMI: 0.8827\n",
            "Epoch[2/10], Step [40/469], Reconst Loss: 139.0073, KL Div: 4.6086, Entropy: 0.2822, NMI: 0.8813\n",
            "Epoch[2/10], Step [50/469], Reconst Loss: 135.4340, KL Div: 4.8326, Entropy: 0.3713, NMI: 0.8587\n",
            "Epoch[2/10], Step [60/469], Reconst Loss: 140.2110, KL Div: 5.0319, Entropy: 0.4407, NMI: 0.7798\n",
            "Epoch[2/10], Step [70/469], Reconst Loss: 140.1745, KL Div: 4.8458, Entropy: 0.1302, NMI: 0.9501\n",
            "Epoch[2/10], Step [80/469], Reconst Loss: 140.8285, KL Div: 4.9807, Entropy: 0.2139, NMI: 0.8606\n",
            "Epoch[2/10], Step [90/469], Reconst Loss: 137.0944, KL Div: 5.1221, Entropy: 0.4225, NMI: 0.8183\n",
            "Epoch[2/10], Step [100/469], Reconst Loss: 138.3377, KL Div: 4.9519, Entropy: 0.3750, NMI: 0.8350\n",
            "Epoch[2/10], Step [110/469], Reconst Loss: 137.9031, KL Div: 4.8228, Entropy: 0.2285, NMI: 0.9094\n",
            "Epoch[2/10], Step [120/469], Reconst Loss: 132.9872, KL Div: 4.8835, Entropy: 0.2390, NMI: 0.9021\n",
            "Epoch[2/10], Step [130/469], Reconst Loss: 131.1227, KL Div: 5.0278, Entropy: 0.2013, NMI: 0.9373\n",
            "Epoch[2/10], Step [140/469], Reconst Loss: 133.8820, KL Div: 4.6249, Entropy: 0.1996, NMI: 0.8926\n",
            "Epoch[2/10], Step [150/469], Reconst Loss: 138.1415, KL Div: 5.1523, Entropy: 0.3011, NMI: 0.8607\n",
            "Epoch[2/10], Step [160/469], Reconst Loss: 136.2612, KL Div: 4.6282, Entropy: 0.2553, NMI: 0.8615\n",
            "Epoch[2/10], Step [170/469], Reconst Loss: 136.4340, KL Div: 4.9659, Entropy: 0.3411, NMI: 0.8178\n",
            "Epoch[2/10], Step [180/469], Reconst Loss: 123.0426, KL Div: 4.9493, Entropy: 0.3069, NMI: 0.8801\n",
            "Epoch[2/10], Step [190/469], Reconst Loss: 133.4513, KL Div: 4.8998, Entropy: 0.2878, NMI: 0.8910\n",
            "Epoch[2/10], Step [200/469], Reconst Loss: 141.4128, KL Div: 5.2926, Entropy: 0.1937, NMI: 0.8782\n",
            "Epoch[2/10], Step [210/469], Reconst Loss: 136.9100, KL Div: 5.1320, Entropy: 0.3037, NMI: 0.8421\n",
            "Epoch[2/10], Step [220/469], Reconst Loss: 133.7914, KL Div: 4.7075, Entropy: 0.3316, NMI: 0.8263\n",
            "Epoch[2/10], Step [230/469], Reconst Loss: 135.5867, KL Div: 4.9350, Entropy: 0.3059, NMI: 0.8606\n",
            "Epoch[2/10], Step [240/469], Reconst Loss: 134.2979, KL Div: 5.0744, Entropy: 0.2563, NMI: 0.8592\n",
            "Epoch[2/10], Step [250/469], Reconst Loss: 131.6112, KL Div: 4.9973, Entropy: 0.2540, NMI: 0.8695\n",
            "Epoch[2/10], Step [260/469], Reconst Loss: 127.3649, KL Div: 4.8393, Entropy: 0.2520, NMI: 0.8641\n",
            "Epoch[2/10], Step [270/469], Reconst Loss: 129.9344, KL Div: 4.9704, Entropy: 0.1776, NMI: 0.9260\n",
            "Epoch[2/10], Step [280/469], Reconst Loss: 132.8812, KL Div: 4.7568, Entropy: 0.3681, NMI: 0.8710\n",
            "Epoch[2/10], Step [290/469], Reconst Loss: 130.1202, KL Div: 5.1160, Entropy: 0.3080, NMI: 0.8545\n",
            "Epoch[2/10], Step [300/469], Reconst Loss: 136.0782, KL Div: 5.1654, Entropy: 0.2481, NMI: 0.9134\n",
            "Epoch[2/10], Step [310/469], Reconst Loss: 128.7265, KL Div: 4.9132, Entropy: 0.2200, NMI: 0.9159\n",
            "Epoch[2/10], Step [320/469], Reconst Loss: 125.9881, KL Div: 4.9092, Entropy: 0.2322, NMI: 0.9032\n",
            "Epoch[2/10], Step [330/469], Reconst Loss: 132.4211, KL Div: 4.8706, Entropy: 0.2903, NMI: 0.8701\n",
            "Epoch[2/10], Step [340/469], Reconst Loss: 127.5184, KL Div: 4.9681, Entropy: 0.2909, NMI: 0.8118\n",
            "Epoch[2/10], Step [350/469], Reconst Loss: 134.9979, KL Div: 5.0597, Entropy: 0.2074, NMI: 0.8950\n",
            "Epoch[2/10], Step [360/469], Reconst Loss: 126.2835, KL Div: 4.9784, Entropy: 0.2527, NMI: 0.8418\n",
            "Epoch[2/10], Step [370/469], Reconst Loss: 131.1509, KL Div: 5.1171, Entropy: 0.2456, NMI: 0.8687\n",
            "Epoch[2/10], Step [380/469], Reconst Loss: 137.4474, KL Div: 5.3246, Entropy: 0.3111, NMI: 0.8810\n",
            "Epoch[2/10], Step [390/469], Reconst Loss: 138.7915, KL Div: 5.6886, Entropy: 0.3325, NMI: 0.8330\n",
            "Epoch[2/10], Step [400/469], Reconst Loss: 131.8118, KL Div: 4.9220, Entropy: 0.2566, NMI: 0.9038\n",
            "Epoch[2/10], Step [410/469], Reconst Loss: 128.6205, KL Div: 5.1947, Entropy: 0.4051, NMI: 0.8535\n",
            "Epoch[2/10], Step [420/469], Reconst Loss: 130.0791, KL Div: 4.9152, Entropy: 0.3735, NMI: 0.8239\n",
            "Epoch[2/10], Step [430/469], Reconst Loss: 128.6566, KL Div: 5.0936, Entropy: 0.2741, NMI: 0.8870\n",
            "Epoch[2/10], Step [440/469], Reconst Loss: 126.5822, KL Div: 5.1585, Entropy: 0.2372, NMI: 0.8893\n",
            "Epoch[2/10], Step [450/469], Reconst Loss: 130.7097, KL Div: 5.1935, Entropy: 0.1924, NMI: 0.9022\n",
            "Epoch[2/10], Step [460/469], Reconst Loss: 130.4682, KL Div: 5.5366, Entropy: 0.2773, NMI: 0.9052\n",
            "Epoch[3/10], Step [10/469], Reconst Loss: 129.6766, KL Div: 5.1736, Entropy: 0.1484, NMI: 0.9202\n",
            "Epoch[3/10], Step [20/469], Reconst Loss: 127.0949, KL Div: 4.9806, Entropy: 0.2933, NMI: 0.8744\n",
            "Epoch[3/10], Step [30/469], Reconst Loss: 129.1386, KL Div: 4.9267, Entropy: 0.3340, NMI: 0.8384\n",
            "Epoch[3/10], Step [40/469], Reconst Loss: 124.5255, KL Div: 5.0936, Entropy: 0.3023, NMI: 0.9129\n",
            "Epoch[3/10], Step [50/469], Reconst Loss: 130.4253, KL Div: 4.8424, Entropy: 0.1325, NMI: 0.9252\n",
            "Epoch[3/10], Step [60/469], Reconst Loss: 125.1823, KL Div: 5.0810, Entropy: 0.1693, NMI: 0.9215\n",
            "Epoch[3/10], Step [70/469], Reconst Loss: 126.1937, KL Div: 4.9224, Entropy: 0.3524, NMI: 0.8707\n",
            "Epoch[3/10], Step [80/469], Reconst Loss: 128.0076, KL Div: 4.9911, Entropy: 0.1756, NMI: 0.9148\n",
            "Epoch[3/10], Step [90/469], Reconst Loss: 123.3393, KL Div: 5.0955, Entropy: 0.1418, NMI: 0.9165\n",
            "Epoch[3/10], Step [100/469], Reconst Loss: 126.7868, KL Div: 5.1795, Entropy: 0.2881, NMI: 0.8253\n",
            "Epoch[3/10], Step [110/469], Reconst Loss: 127.0507, KL Div: 5.0006, Entropy: 0.1910, NMI: 0.9190\n",
            "Epoch[3/10], Step [120/469], Reconst Loss: 132.5831, KL Div: 5.2334, Entropy: 0.4421, NMI: 0.8615\n",
            "Epoch[3/10], Step [130/469], Reconst Loss: 122.3327, KL Div: 5.0078, Entropy: 0.2410, NMI: 0.9316\n",
            "Epoch[3/10], Step [140/469], Reconst Loss: 124.3646, KL Div: 4.9690, Entropy: 0.2018, NMI: 0.8586\n",
            "Epoch[3/10], Step [150/469], Reconst Loss: 124.4322, KL Div: 5.0707, Entropy: 0.1856, NMI: 0.9021\n",
            "Epoch[3/10], Step [160/469], Reconst Loss: 128.0142, KL Div: 5.1358, Entropy: 0.3214, NMI: 0.8606\n",
            "Epoch[3/10], Step [170/469], Reconst Loss: 125.1827, KL Div: 5.0609, Entropy: 0.2557, NMI: 0.9159\n",
            "Epoch[3/10], Step [180/469], Reconst Loss: 128.0061, KL Div: 5.5621, Entropy: 0.2526, NMI: 0.8485\n",
            "Epoch[3/10], Step [190/469], Reconst Loss: 123.9184, KL Div: 5.0858, Entropy: 0.2387, NMI: 0.9080\n",
            "Epoch[3/10], Step [200/469], Reconst Loss: 122.8027, KL Div: 5.0377, Entropy: 0.1559, NMI: 0.9407\n",
            "Epoch[3/10], Step [210/469], Reconst Loss: 126.4130, KL Div: 5.3147, Entropy: 0.2652, NMI: 0.8701\n",
            "Epoch[3/10], Step [220/469], Reconst Loss: 125.2958, KL Div: 5.0244, Entropy: 0.1241, NMI: 0.9527\n",
            "Epoch[3/10], Step [230/469], Reconst Loss: 129.6371, KL Div: 5.2744, Entropy: 0.3193, NMI: 0.8340\n",
            "Epoch[3/10], Step [240/469], Reconst Loss: 126.3683, KL Div: 5.1193, Entropy: 0.1329, NMI: 0.9043\n",
            "Epoch[3/10], Step [250/469], Reconst Loss: 127.3475, KL Div: 5.4816, Entropy: 0.4033, NMI: 0.8539\n",
            "Epoch[3/10], Step [260/469], Reconst Loss: 126.8092, KL Div: 5.0660, Entropy: 0.2173, NMI: 0.8507\n",
            "Epoch[3/10], Step [270/469], Reconst Loss: 126.8331, KL Div: 5.2126, Entropy: 0.1491, NMI: 0.9436\n",
            "Epoch[3/10], Step [280/469], Reconst Loss: 120.2625, KL Div: 5.0008, Entropy: 0.2303, NMI: 0.9157\n",
            "Epoch[3/10], Step [290/469], Reconst Loss: 124.4728, KL Div: 5.0457, Entropy: 0.3972, NMI: 0.8261\n",
            "Epoch[3/10], Step [300/469], Reconst Loss: 128.7603, KL Div: 5.2413, Entropy: 0.2494, NMI: 0.9062\n",
            "Epoch[3/10], Step [310/469], Reconst Loss: 120.3884, KL Div: 5.4669, Entropy: 0.2141, NMI: 0.8838\n",
            "Epoch[3/10], Step [320/469], Reconst Loss: 126.3948, KL Div: 5.3852, Entropy: 0.2718, NMI: 0.8301\n",
            "Epoch[3/10], Step [330/469], Reconst Loss: 128.4009, KL Div: 5.3981, Entropy: 0.3515, NMI: 0.8385\n",
            "Epoch[3/10], Step [340/469], Reconst Loss: 124.5251, KL Div: 5.2707, Entropy: 0.2990, NMI: 0.8596\n",
            "Epoch[3/10], Step [350/469], Reconst Loss: 128.2385, KL Div: 5.4560, Entropy: 0.2376, NMI: 0.8931\n",
            "Epoch[3/10], Step [360/469], Reconst Loss: 125.1670, KL Div: 5.2527, Entropy: 0.3943, NMI: 0.8539\n",
            "Epoch[3/10], Step [370/469], Reconst Loss: 127.5851, KL Div: 5.6847, Entropy: 0.2380, NMI: 0.8883\n",
            "Epoch[3/10], Step [380/469], Reconst Loss: 124.1130, KL Div: 5.0020, Entropy: 0.1804, NMI: 0.9055\n",
            "Epoch[3/10], Step [390/469], Reconst Loss: 125.2536, KL Div: 5.0670, Entropy: 0.2730, NMI: 0.9086\n",
            "Epoch[3/10], Step [400/469], Reconst Loss: 122.2386, KL Div: 5.0304, Entropy: 0.2467, NMI: 0.8748\n",
            "Epoch[3/10], Step [410/469], Reconst Loss: 123.9472, KL Div: 5.2510, Entropy: 0.2842, NMI: 0.8880\n",
            "Epoch[3/10], Step [420/469], Reconst Loss: 124.9224, KL Div: 5.3128, Entropy: 0.1799, NMI: 0.9414\n",
            "Epoch[3/10], Step [430/469], Reconst Loss: 126.4247, KL Div: 5.2729, Entropy: 0.2460, NMI: 0.8784\n",
            "Epoch[3/10], Step [440/469], Reconst Loss: 123.1517, KL Div: 5.5054, Entropy: 0.2271, NMI: 0.8829\n",
            "Epoch[3/10], Step [450/469], Reconst Loss: 128.7558, KL Div: 5.4474, Entropy: 0.1828, NMI: 0.9383\n",
            "Epoch[3/10], Step [460/469], Reconst Loss: 119.7566, KL Div: 5.2036, Entropy: 0.3168, NMI: 0.8289\n",
            "Epoch[4/10], Step [10/469], Reconst Loss: 133.3434, KL Div: 5.4514, Entropy: 0.3102, NMI: 0.8655\n",
            "Epoch[4/10], Step [20/469], Reconst Loss: 126.5243, KL Div: 5.2521, Entropy: 0.1411, NMI: 0.8890\n",
            "Epoch[4/10], Step [30/469], Reconst Loss: 122.2912, KL Div: 5.3474, Entropy: 0.1670, NMI: 0.9427\n",
            "Epoch[4/10], Step [40/469], Reconst Loss: 122.1836, KL Div: 5.3078, Entropy: 0.2849, NMI: 0.8908\n",
            "Epoch[4/10], Step [50/469], Reconst Loss: 125.6238, KL Div: 5.5506, Entropy: 0.1752, NMI: 0.8945\n",
            "Epoch[4/10], Step [60/469], Reconst Loss: 129.2398, KL Div: 5.1962, Entropy: 0.2220, NMI: 0.8471\n",
            "Epoch[4/10], Step [70/469], Reconst Loss: 127.9302, KL Div: 5.2714, Entropy: 0.1750, NMI: 0.9030\n",
            "Epoch[4/10], Step [80/469], Reconst Loss: 121.3546, KL Div: 5.3998, Entropy: 0.2035, NMI: 0.9121\n",
            "Epoch[4/10], Step [90/469], Reconst Loss: 124.9059, KL Div: 5.3010, Entropy: 0.2018, NMI: 0.8922\n",
            "Epoch[4/10], Step [100/469], Reconst Loss: 125.7090, KL Div: 5.2026, Entropy: 0.1927, NMI: 0.8697\n",
            "Epoch[4/10], Step [110/469], Reconst Loss: 118.3760, KL Div: 5.3183, Entropy: 0.1527, NMI: 0.9306\n",
            "Epoch[4/10], Step [120/469], Reconst Loss: 121.5317, KL Div: 5.3563, Entropy: 0.1572, NMI: 0.9175\n",
            "Epoch[4/10], Step [130/469], Reconst Loss: 124.8054, KL Div: 5.5115, Entropy: 0.2814, NMI: 0.9031\n",
            "Epoch[4/10], Step [140/469], Reconst Loss: 121.8272, KL Div: 4.9649, Entropy: 0.2087, NMI: 0.8948\n",
            "Epoch[4/10], Step [150/469], Reconst Loss: 119.5206, KL Div: 5.5591, Entropy: 0.1846, NMI: 0.9144\n",
            "Epoch[4/10], Step [160/469], Reconst Loss: 124.4890, KL Div: 5.1869, Entropy: 0.3867, NMI: 0.8517\n",
            "Epoch[4/10], Step [170/469], Reconst Loss: 116.3863, KL Div: 5.3418, Entropy: 0.1957, NMI: 0.9103\n",
            "Epoch[4/10], Step [180/469], Reconst Loss: 123.8384, KL Div: 5.2711, Entropy: 0.1011, NMI: 0.9515\n",
            "Epoch[4/10], Step [190/469], Reconst Loss: 120.5925, KL Div: 5.4409, Entropy: 0.0598, NMI: 1.0000\n",
            "Epoch[4/10], Step [200/469], Reconst Loss: 129.1379, KL Div: 5.3587, Entropy: 0.1941, NMI: 0.8930\n",
            "Epoch[4/10], Step [210/469], Reconst Loss: 117.2036, KL Div: 5.2409, Entropy: 0.2000, NMI: 0.8888\n",
            "Epoch[4/10], Step [220/469], Reconst Loss: 119.3745, KL Div: 5.2256, Entropy: 0.2341, NMI: 0.9089\n",
            "Epoch[4/10], Step [230/469], Reconst Loss: 122.5221, KL Div: 5.5341, Entropy: 0.2195, NMI: 0.8827\n",
            "Epoch[4/10], Step [240/469], Reconst Loss: 123.0678, KL Div: 5.1966, Entropy: 0.2251, NMI: 0.9197\n",
            "Epoch[4/10], Step [250/469], Reconst Loss: 115.2877, KL Div: 5.3809, Entropy: 0.1626, NMI: 0.9027\n",
            "Epoch[4/10], Step [260/469], Reconst Loss: 116.0956, KL Div: 5.1327, Entropy: 0.2729, NMI: 0.8802\n",
            "Epoch[4/10], Step [270/469], Reconst Loss: 120.1213, KL Div: 4.9458, Entropy: 0.2365, NMI: 0.8817\n",
            "Epoch[4/10], Step [280/469], Reconst Loss: 120.2896, KL Div: 5.3846, Entropy: 0.1585, NMI: 0.9199\n",
            "Epoch[4/10], Step [290/469], Reconst Loss: 116.2662, KL Div: 5.0288, Entropy: 0.2531, NMI: 0.8531\n",
            "Epoch[4/10], Step [300/469], Reconst Loss: 123.3022, KL Div: 5.6741, Entropy: 0.2887, NMI: 0.8724\n",
            "Epoch[4/10], Step [310/469], Reconst Loss: 124.0289, KL Div: 5.4055, Entropy: 0.2476, NMI: 0.8312\n",
            "Epoch[4/10], Step [320/469], Reconst Loss: 120.8627, KL Div: 5.2542, Entropy: 0.2206, NMI: 0.9026\n",
            "Epoch[4/10], Step [330/469], Reconst Loss: 122.8020, KL Div: 5.4239, Entropy: 0.3266, NMI: 0.8187\n",
            "Epoch[4/10], Step [340/469], Reconst Loss: 121.4673, KL Div: 5.6690, Entropy: 0.1547, NMI: 0.9252\n",
            "Epoch[4/10], Step [350/469], Reconst Loss: 117.9353, KL Div: 5.4862, Entropy: 0.2113, NMI: 0.8925\n",
            "Epoch[4/10], Step [360/469], Reconst Loss: 118.9788, KL Div: 5.1582, Entropy: 0.2405, NMI: 0.8834\n",
            "Epoch[4/10], Step [370/469], Reconst Loss: 121.1643, KL Div: 5.4651, Entropy: 0.1338, NMI: 0.9357\n",
            "Epoch[4/10], Step [380/469], Reconst Loss: 118.5663, KL Div: 5.4038, Entropy: 0.2036, NMI: 0.9190\n",
            "Epoch[4/10], Step [390/469], Reconst Loss: 121.4554, KL Div: 5.4335, Entropy: 0.2609, NMI: 0.8675\n",
            "Epoch[4/10], Step [400/469], Reconst Loss: 116.4406, KL Div: 5.3391, Entropy: 0.2354, NMI: 0.8813\n",
            "Epoch[4/10], Step [410/469], Reconst Loss: 121.1299, KL Div: 5.6256, Entropy: 0.1773, NMI: 0.9403\n",
            "Epoch[4/10], Step [420/469], Reconst Loss: 128.1556, KL Div: 5.5730, Entropy: 0.4420, NMI: 0.8158\n",
            "Epoch[4/10], Step [430/469], Reconst Loss: 122.8580, KL Div: 5.4535, Entropy: 0.1516, NMI: 0.9546\n",
            "Epoch[4/10], Step [440/469], Reconst Loss: 122.8771, KL Div: 5.5285, Entropy: 0.2571, NMI: 0.8799\n",
            "Epoch[4/10], Step [450/469], Reconst Loss: 118.7488, KL Div: 5.5217, Entropy: 0.1277, NMI: 0.9284\n",
            "Epoch[4/10], Step [460/469], Reconst Loss: 122.8441, KL Div: 5.6017, Entropy: 0.1305, NMI: 0.9405\n",
            "Epoch[5/10], Step [10/469], Reconst Loss: 122.5914, KL Div: 5.2080, Entropy: 0.2199, NMI: 0.8561\n",
            "Epoch[5/10], Step [20/469], Reconst Loss: 118.7938, KL Div: 5.3726, Entropy: 0.2191, NMI: 0.9402\n",
            "Epoch[5/10], Step [30/469], Reconst Loss: 119.5409, KL Div: 5.6406, Entropy: 0.1917, NMI: 0.9053\n",
            "Epoch[5/10], Step [40/469], Reconst Loss: 121.7194, KL Div: 5.5662, Entropy: 0.2433, NMI: 0.8854\n",
            "Epoch[5/10], Step [50/469], Reconst Loss: 123.2928, KL Div: 5.4838, Entropy: 0.2280, NMI: 0.8774\n",
            "Epoch[5/10], Step [60/469], Reconst Loss: 121.6806, KL Div: 5.5263, Entropy: 0.2374, NMI: 0.9075\n",
            "Epoch[5/10], Step [70/469], Reconst Loss: 123.8180, KL Div: 5.5941, Entropy: 0.1407, NMI: 0.9160\n",
            "Epoch[5/10], Step [80/469], Reconst Loss: 116.3325, KL Div: 5.1808, Entropy: 0.1383, NMI: 0.9425\n",
            "Epoch[5/10], Step [90/469], Reconst Loss: 115.5605, KL Div: 5.2819, Entropy: 0.2226, NMI: 0.9032\n",
            "Epoch[5/10], Step [100/469], Reconst Loss: 116.0430, KL Div: 5.1653, Entropy: 0.1967, NMI: 0.9247\n",
            "Epoch[5/10], Step [110/469], Reconst Loss: 127.3711, KL Div: 5.6534, Entropy: 0.2275, NMI: 0.9278\n",
            "Epoch[5/10], Step [120/469], Reconst Loss: 120.0195, KL Div: 5.5170, Entropy: 0.0986, NMI: 0.9651\n",
            "Epoch[5/10], Step [130/469], Reconst Loss: 123.6992, KL Div: 5.7572, Entropy: 0.2588, NMI: 0.8495\n",
            "Epoch[5/10], Step [140/469], Reconst Loss: 124.7507, KL Div: 5.4820, Entropy: 0.2334, NMI: 0.8812\n",
            "Epoch[5/10], Step [150/469], Reconst Loss: 114.7540, KL Div: 5.4536, Entropy: 0.2283, NMI: 0.8662\n",
            "Epoch[5/10], Step [160/469], Reconst Loss: 122.3451, KL Div: 5.7985, Entropy: 0.1518, NMI: 0.8966\n",
            "Epoch[5/10], Step [170/469], Reconst Loss: 116.8802, KL Div: 5.3281, Entropy: 0.1350, NMI: 0.9234\n",
            "Epoch[5/10], Step [180/469], Reconst Loss: 123.4275, KL Div: 5.7088, Entropy: 0.1049, NMI: 0.9511\n",
            "Epoch[5/10], Step [190/469], Reconst Loss: 121.1943, KL Div: 5.2152, Entropy: 0.3440, NMI: 0.8443\n",
            "Epoch[5/10], Step [200/469], Reconst Loss: 115.1737, KL Div: 5.6393, Entropy: 0.1516, NMI: 0.9294\n",
            "Epoch[5/10], Step [210/469], Reconst Loss: 119.5378, KL Div: 5.4036, Entropy: 0.1741, NMI: 0.9172\n",
            "Epoch[5/10], Step [220/469], Reconst Loss: 120.3446, KL Div: 5.3190, Entropy: 0.2825, NMI: 0.9170\n",
            "Epoch[5/10], Step [230/469], Reconst Loss: 117.2154, KL Div: 5.1376, Entropy: 0.1925, NMI: 0.8814\n",
            "Epoch[5/10], Step [240/469], Reconst Loss: 123.4883, KL Div: 5.5000, Entropy: 0.3132, NMI: 0.8654\n",
            "Epoch[5/10], Step [250/469], Reconst Loss: 119.9691, KL Div: 5.4108, Entropy: 0.1443, NMI: 0.9303\n",
            "Epoch[5/10], Step [260/469], Reconst Loss: 115.2514, KL Div: 5.5330, Entropy: 0.1529, NMI: 0.9141\n",
            "Epoch[5/10], Step [270/469], Reconst Loss: 122.5501, KL Div: 5.5868, Entropy: 0.1719, NMI: 0.9089\n",
            "Epoch[5/10], Step [280/469], Reconst Loss: 116.0376, KL Div: 4.9686, Entropy: 0.1711, NMI: 0.8969\n",
            "Epoch[5/10], Step [290/469], Reconst Loss: 113.1992, KL Div: 5.3631, Entropy: 0.1377, NMI: 0.9314\n",
            "Epoch[5/10], Step [300/469], Reconst Loss: 120.2963, KL Div: 5.3123, Entropy: 0.1328, NMI: 0.9254\n",
            "Epoch[5/10], Step [310/469], Reconst Loss: 110.3753, KL Div: 5.2962, Entropy: 0.2023, NMI: 0.8924\n",
            "Epoch[5/10], Step [320/469], Reconst Loss: 114.6569, KL Div: 5.2687, Entropy: 0.1787, NMI: 0.9289\n",
            "Epoch[5/10], Step [330/469], Reconst Loss: 118.5634, KL Div: 5.6678, Entropy: 0.2573, NMI: 0.8476\n",
            "Epoch[5/10], Step [340/469], Reconst Loss: 117.2668, KL Div: 5.2576, Entropy: 0.2500, NMI: 0.8862\n",
            "Epoch[5/10], Step [350/469], Reconst Loss: 117.3853, KL Div: 5.3464, Entropy: 0.1957, NMI: 0.9064\n",
            "Epoch[5/10], Step [360/469], Reconst Loss: 115.5394, KL Div: 5.4303, Entropy: 0.1012, NMI: 0.9574\n",
            "Epoch[5/10], Step [370/469], Reconst Loss: 119.3944, KL Div: 5.5812, Entropy: 0.1808, NMI: 0.9266\n",
            "Epoch[5/10], Step [380/469], Reconst Loss: 123.6420, KL Div: 5.5368, Entropy: 0.1323, NMI: 0.9530\n",
            "Epoch[5/10], Step [390/469], Reconst Loss: 111.5191, KL Div: 5.5147, Entropy: 0.1768, NMI: 0.9478\n",
            "Epoch[5/10], Step [400/469], Reconst Loss: 117.4402, KL Div: 5.3013, Entropy: 0.1017, NMI: 0.9451\n",
            "Epoch[5/10], Step [410/469], Reconst Loss: 124.9612, KL Div: 5.9245, Entropy: 0.3010, NMI: 0.8397\n",
            "Epoch[5/10], Step [420/469], Reconst Loss: 117.3021, KL Div: 5.6495, Entropy: 0.1928, NMI: 0.9154\n",
            "Epoch[5/10], Step [430/469], Reconst Loss: 114.4019, KL Div: 5.3746, Entropy: 0.1708, NMI: 0.9511\n",
            "Epoch[5/10], Step [440/469], Reconst Loss: 124.9039, KL Div: 5.5252, Entropy: 0.1375, NMI: 0.9276\n",
            "Epoch[5/10], Step [450/469], Reconst Loss: 121.0408, KL Div: 5.5086, Entropy: 0.1704, NMI: 0.8970\n",
            "Epoch[5/10], Step [460/469], Reconst Loss: 115.4633, KL Div: 5.5979, Entropy: 0.2057, NMI: 0.8720\n",
            "Epoch[6/10], Step [10/469], Reconst Loss: 116.8316, KL Div: 5.6246, Entropy: 0.1215, NMI: 0.9385\n",
            "Epoch[6/10], Step [20/469], Reconst Loss: 116.9365, KL Div: 5.5026, Entropy: 0.1153, NMI: 0.9289\n",
            "Epoch[6/10], Step [30/469], Reconst Loss: 116.7855, KL Div: 5.6433, Entropy: 0.1943, NMI: 0.9016\n",
            "Epoch[6/10], Step [40/469], Reconst Loss: 123.4338, KL Div: 5.6908, Entropy: 0.1853, NMI: 0.8898\n",
            "Epoch[6/10], Step [50/469], Reconst Loss: 119.8581, KL Div: 5.9093, Entropy: 0.2440, NMI: 0.9053\n",
            "Epoch[6/10], Step [60/469], Reconst Loss: 112.6556, KL Div: 5.3932, Entropy: 0.1055, NMI: 0.9523\n",
            "Epoch[6/10], Step [70/469], Reconst Loss: 118.4603, KL Div: 5.6108, Entropy: 0.2847, NMI: 0.8372\n",
            "Epoch[6/10], Step [80/469], Reconst Loss: 114.3084, KL Div: 5.5236, Entropy: 0.1545, NMI: 0.9443\n",
            "Epoch[6/10], Step [90/469], Reconst Loss: 123.4031, KL Div: 5.9716, Entropy: 0.1835, NMI: 0.8969\n",
            "Epoch[6/10], Step [100/469], Reconst Loss: 119.3093, KL Div: 5.6260, Entropy: 0.2702, NMI: 0.8853\n",
            "Epoch[6/10], Step [110/469], Reconst Loss: 116.8578, KL Div: 5.6165, Entropy: 0.2199, NMI: 0.8731\n",
            "Epoch[6/10], Step [120/469], Reconst Loss: 117.5323, KL Div: 5.6068, Entropy: 0.1593, NMI: 0.8904\n",
            "Epoch[6/10], Step [130/469], Reconst Loss: 117.3558, KL Div: 5.6960, Entropy: 0.1625, NMI: 0.8959\n",
            "Epoch[6/10], Step [140/469], Reconst Loss: 113.4030, KL Div: 5.3799, Entropy: 0.1509, NMI: 0.9327\n",
            "Epoch[6/10], Step [150/469], Reconst Loss: 117.9376, KL Div: 5.4591, Entropy: 0.1852, NMI: 0.9019\n",
            "Epoch[6/10], Step [160/469], Reconst Loss: 117.1240, KL Div: 5.8904, Entropy: 0.2034, NMI: 0.9038\n",
            "Epoch[6/10], Step [170/469], Reconst Loss: 116.7588, KL Div: 5.5641, Entropy: 0.2336, NMI: 0.8906\n",
            "Epoch[6/10], Step [180/469], Reconst Loss: 116.9511, KL Div: 5.7430, Entropy: 0.1781, NMI: 0.9181\n",
            "Epoch[6/10], Step [190/469], Reconst Loss: 114.7608, KL Div: 5.7068, Entropy: 0.2248, NMI: 0.9338\n",
            "Epoch[6/10], Step [200/469], Reconst Loss: 117.7158, KL Div: 5.0564, Entropy: 0.1950, NMI: 0.8883\n",
            "Epoch[6/10], Step [210/469], Reconst Loss: 115.6370, KL Div: 5.5900, Entropy: 0.1538, NMI: 0.9411\n",
            "Epoch[6/10], Step [220/469], Reconst Loss: 119.6139, KL Div: 5.5576, Entropy: 0.1582, NMI: 0.8929\n",
            "Epoch[6/10], Step [230/469], Reconst Loss: 122.2590, KL Div: 5.8328, Entropy: 0.2362, NMI: 0.9165\n",
            "Epoch[6/10], Step [240/469], Reconst Loss: 115.3344, KL Div: 5.1691, Entropy: 0.2957, NMI: 0.8817\n",
            "Epoch[6/10], Step [250/469], Reconst Loss: 114.7324, KL Div: 5.4999, Entropy: 0.1319, NMI: 0.9420\n",
            "Epoch[6/10], Step [260/469], Reconst Loss: 116.1832, KL Div: 5.5322, Entropy: 0.1397, NMI: 0.9153\n",
            "Epoch[6/10], Step [270/469], Reconst Loss: 122.8838, KL Div: 6.0256, Entropy: 0.2856, NMI: 0.8829\n",
            "Epoch[6/10], Step [280/469], Reconst Loss: 113.7784, KL Div: 5.6555, Entropy: 0.1643, NMI: 0.9276\n",
            "Epoch[6/10], Step [290/469], Reconst Loss: 118.7663, KL Div: 5.5565, Entropy: 0.2185, NMI: 0.8849\n",
            "Epoch[6/10], Step [300/469], Reconst Loss: 111.5674, KL Div: 5.4775, Entropy: 0.2812, NMI: 0.8540\n",
            "Epoch[6/10], Step [310/469], Reconst Loss: 117.4863, KL Div: 5.7305, Entropy: 0.2148, NMI: 0.8830\n",
            "Epoch[6/10], Step [320/469], Reconst Loss: 123.6688, KL Div: 5.5123, Entropy: 0.1840, NMI: 0.8749\n",
            "Epoch[6/10], Step [330/469], Reconst Loss: 113.3659, KL Div: 5.4717, Entropy: 0.2673, NMI: 0.8905\n",
            "Epoch[6/10], Step [340/469], Reconst Loss: 120.1196, KL Div: 5.8180, Entropy: 0.3040, NMI: 0.8733\n",
            "Epoch[6/10], Step [350/469], Reconst Loss: 114.0477, KL Div: 5.8405, Entropy: 0.1040, NMI: 0.9654\n",
            "Epoch[6/10], Step [360/469], Reconst Loss: 123.8807, KL Div: 5.7085, Entropy: 0.1743, NMI: 0.9034\n",
            "Epoch[6/10], Step [370/469], Reconst Loss: 119.1788, KL Div: 5.7038, Entropy: 0.1574, NMI: 0.9386\n",
            "Epoch[6/10], Step [380/469], Reconst Loss: 108.5820, KL Div: 5.6117, Entropy: 0.0891, NMI: 0.9512\n",
            "Epoch[6/10], Step [390/469], Reconst Loss: 115.9214, KL Div: 5.6547, Entropy: 0.1627, NMI: 0.9078\n",
            "Epoch[6/10], Step [400/469], Reconst Loss: 123.1379, KL Div: 5.6570, Entropy: 0.2303, NMI: 0.9280\n",
            "Epoch[6/10], Step [410/469], Reconst Loss: 115.3703, KL Div: 5.5992, Entropy: 0.1748, NMI: 0.9130\n",
            "Epoch[6/10], Step [420/469], Reconst Loss: 120.1863, KL Div: 5.6926, Entropy: 0.1902, NMI: 0.9379\n",
            "Epoch[6/10], Step [430/469], Reconst Loss: 116.2298, KL Div: 5.6597, Entropy: 0.1380, NMI: 0.9376\n",
            "Epoch[6/10], Step [440/469], Reconst Loss: 118.3198, KL Div: 5.9832, Entropy: 0.2194, NMI: 0.9275\n",
            "Epoch[6/10], Step [450/469], Reconst Loss: 116.4718, KL Div: 5.6246, Entropy: 0.2259, NMI: 0.9206\n",
            "Epoch[6/10], Step [460/469], Reconst Loss: 116.6269, KL Div: 5.2286, Entropy: 0.0634, NMI: 0.9756\n",
            "Epoch[7/10], Step [10/469], Reconst Loss: 118.8256, KL Div: 5.9489, Entropy: 0.2285, NMI: 0.8961\n",
            "Epoch[7/10], Step [20/469], Reconst Loss: 113.6009, KL Div: 5.4718, Entropy: 0.1901, NMI: 0.9036\n",
            "Epoch[7/10], Step [30/469], Reconst Loss: 117.4127, KL Div: 5.6233, Entropy: 0.1543, NMI: 0.8770\n",
            "Epoch[7/10], Step [40/469], Reconst Loss: 118.3641, KL Div: 5.4756, Entropy: 0.2154, NMI: 0.9079\n",
            "Epoch[7/10], Step [50/469], Reconst Loss: 120.7496, KL Div: 5.7699, Entropy: 0.2113, NMI: 0.9031\n",
            "Epoch[7/10], Step [60/469], Reconst Loss: 116.4103, KL Div: 5.7831, Entropy: 0.1921, NMI: 0.9089\n",
            "Epoch[7/10], Step [70/469], Reconst Loss: 110.6174, KL Div: 5.5198, Entropy: 0.1555, NMI: 0.8996\n",
            "Epoch[7/10], Step [80/469], Reconst Loss: 122.7294, KL Div: 5.5641, Entropy: 0.1892, NMI: 0.8914\n",
            "Epoch[7/10], Step [90/469], Reconst Loss: 112.0121, KL Div: 5.5560, Entropy: 0.3421, NMI: 0.8810\n",
            "Epoch[7/10], Step [100/469], Reconst Loss: 116.2191, KL Div: 5.7352, Entropy: 0.1777, NMI: 0.9046\n",
            "Epoch[7/10], Step [110/469], Reconst Loss: 116.0088, KL Div: 5.7278, Entropy: 0.2325, NMI: 0.8935\n",
            "Epoch[7/10], Step [120/469], Reconst Loss: 112.6954, KL Div: 5.5919, Entropy: 0.1355, NMI: 0.9255\n",
            "Epoch[7/10], Step [130/469], Reconst Loss: 115.4559, KL Div: 5.6189, Entropy: 0.2134, NMI: 0.8683\n",
            "Epoch[7/10], Step [140/469], Reconst Loss: 116.4549, KL Div: 5.9255, Entropy: 0.1061, NMI: 0.9549\n",
            "Epoch[7/10], Step [150/469], Reconst Loss: 111.8367, KL Div: 5.0502, Entropy: 0.0891, NMI: 0.9501\n",
            "Epoch[7/10], Step [160/469], Reconst Loss: 113.3996, KL Div: 5.7398, Entropy: 0.1304, NMI: 0.9252\n",
            "Epoch[7/10], Step [170/469], Reconst Loss: 118.6251, KL Div: 5.9125, Entropy: 0.2782, NMI: 0.9091\n",
            "Epoch[7/10], Step [180/469], Reconst Loss: 113.2627, KL Div: 5.4589, Entropy: 0.1751, NMI: 0.8968\n",
            "Epoch[7/10], Step [190/469], Reconst Loss: 118.7269, KL Div: 5.6467, Entropy: 0.2496, NMI: 0.9208\n",
            "Epoch[7/10], Step [200/469], Reconst Loss: 119.1767, KL Div: 5.6201, Entropy: 0.2585, NMI: 0.8494\n",
            "Epoch[7/10], Step [210/469], Reconst Loss: 116.2388, KL Div: 6.1982, Entropy: 0.1634, NMI: 0.9361\n",
            "Epoch[7/10], Step [220/469], Reconst Loss: 115.4668, KL Div: 5.9625, Entropy: 0.1625, NMI: 0.9070\n",
            "Epoch[7/10], Step [230/469], Reconst Loss: 116.3158, KL Div: 5.7293, Entropy: 0.1127, NMI: 0.9396\n",
            "Epoch[7/10], Step [240/469], Reconst Loss: 114.8670, KL Div: 6.0105, Entropy: 0.1545, NMI: 0.8924\n",
            "Epoch[7/10], Step [250/469], Reconst Loss: 118.0184, KL Div: 5.5476, Entropy: 0.2999, NMI: 0.8077\n",
            "Epoch[7/10], Step [260/469], Reconst Loss: 119.7710, KL Div: 5.9251, Entropy: 0.1781, NMI: 0.9020\n",
            "Epoch[7/10], Step [270/469], Reconst Loss: 116.0466, KL Div: 5.8938, Entropy: 0.1540, NMI: 0.9327\n",
            "Epoch[7/10], Step [280/469], Reconst Loss: 114.7239, KL Div: 5.6530, Entropy: 0.2107, NMI: 0.8921\n",
            "Epoch[7/10], Step [290/469], Reconst Loss: 112.9608, KL Div: 5.7204, Entropy: 0.1327, NMI: 0.9204\n",
            "Epoch[7/10], Step [300/469], Reconst Loss: 115.0566, KL Div: 5.7310, Entropy: 0.1386, NMI: 0.9026\n",
            "Epoch[7/10], Step [310/469], Reconst Loss: 113.8487, KL Div: 5.5566, Entropy: 0.2615, NMI: 0.9237\n",
            "Epoch[7/10], Step [320/469], Reconst Loss: 115.0383, KL Div: 5.8819, Entropy: 0.1999, NMI: 0.9090\n",
            "Epoch[7/10], Step [330/469], Reconst Loss: 114.1065, KL Div: 5.7715, Entropy: 0.1480, NMI: 0.9518\n",
            "Epoch[7/10], Step [340/469], Reconst Loss: 116.7829, KL Div: 5.6118, Entropy: 0.1421, NMI: 0.9268\n",
            "Epoch[7/10], Step [350/469], Reconst Loss: 116.7793, KL Div: 5.8773, Entropy: 0.1311, NMI: 0.9265\n",
            "Epoch[7/10], Step [360/469], Reconst Loss: 123.3546, KL Div: 5.7621, Entropy: 0.1625, NMI: 0.9235\n",
            "Epoch[7/10], Step [370/469], Reconst Loss: 112.7102, KL Div: 5.5122, Entropy: 0.1585, NMI: 0.9407\n",
            "Epoch[7/10], Step [380/469], Reconst Loss: 116.0426, KL Div: 5.8393, Entropy: 0.2496, NMI: 0.8773\n",
            "Epoch[7/10], Step [390/469], Reconst Loss: 115.8788, KL Div: 5.4483, Entropy: 0.2158, NMI: 0.9099\n",
            "Epoch[7/10], Step [400/469], Reconst Loss: 113.2743, KL Div: 5.9644, Entropy: 0.3377, NMI: 0.8924\n",
            "Epoch[7/10], Step [410/469], Reconst Loss: 118.7010, KL Div: 5.7696, Entropy: 0.1675, NMI: 0.9035\n",
            "Epoch[7/10], Step [420/469], Reconst Loss: 115.4379, KL Div: 5.8589, Entropy: 0.3703, NMI: 0.8408\n",
            "Epoch[7/10], Step [430/469], Reconst Loss: 114.7319, KL Div: 5.6777, Entropy: 0.1505, NMI: 0.9512\n",
            "Epoch[7/10], Step [440/469], Reconst Loss: 116.4168, KL Div: 5.6669, Entropy: 0.1228, NMI: 0.9299\n",
            "Epoch[7/10], Step [450/469], Reconst Loss: 116.5725, KL Div: 5.7410, Entropy: 0.1635, NMI: 0.9273\n",
            "Epoch[7/10], Step [460/469], Reconst Loss: 120.8812, KL Div: 5.8450, Entropy: 0.2215, NMI: 0.8961\n",
            "Epoch[8/10], Step [10/469], Reconst Loss: 118.9218, KL Div: 6.0429, Entropy: 0.1776, NMI: 0.8795\n",
            "Epoch[8/10], Step [20/469], Reconst Loss: 113.3338, KL Div: 5.9617, Entropy: 0.1337, NMI: 0.9411\n",
            "Epoch[8/10], Step [30/469], Reconst Loss: 109.1023, KL Div: 5.4693, Entropy: 0.0926, NMI: 0.9632\n",
            "Epoch[8/10], Step [40/469], Reconst Loss: 119.7142, KL Div: 5.9150, Entropy: 0.1739, NMI: 0.8941\n",
            "Epoch[8/10], Step [50/469], Reconst Loss: 115.3978, KL Div: 5.6787, Entropy: 0.1261, NMI: 0.9640\n",
            "Epoch[8/10], Step [60/469], Reconst Loss: 107.9743, KL Div: 5.8390, Entropy: 0.1202, NMI: 0.9528\n",
            "Epoch[8/10], Step [70/469], Reconst Loss: 114.5149, KL Div: 5.3573, Entropy: 0.1836, NMI: 0.9159\n",
            "Epoch[8/10], Step [80/469], Reconst Loss: 113.2584, KL Div: 5.9614, Entropy: 0.1597, NMI: 0.9045\n",
            "Epoch[8/10], Step [90/469], Reconst Loss: 121.3189, KL Div: 5.5981, Entropy: 0.1363, NMI: 0.9402\n",
            "Epoch[8/10], Step [100/469], Reconst Loss: 113.8569, KL Div: 5.7397, Entropy: 0.1194, NMI: 0.9514\n",
            "Epoch[8/10], Step [110/469], Reconst Loss: 110.3614, KL Div: 5.7527, Entropy: 0.1804, NMI: 0.9086\n",
            "Epoch[8/10], Step [120/469], Reconst Loss: 109.9663, KL Div: 5.6874, Entropy: 0.1120, NMI: 0.9501\n",
            "Epoch[8/10], Step [130/469], Reconst Loss: 109.4534, KL Div: 5.7183, Entropy: 0.2523, NMI: 0.8689\n",
            "Epoch[8/10], Step [140/469], Reconst Loss: 115.5055, KL Div: 5.6895, Entropy: 0.1520, NMI: 0.9253\n",
            "Epoch[8/10], Step [150/469], Reconst Loss: 112.5082, KL Div: 5.6851, Entropy: 0.1334, NMI: 0.9311\n",
            "Epoch[8/10], Step [160/469], Reconst Loss: 122.2470, KL Div: 6.0968, Entropy: 0.1804, NMI: 0.9223\n",
            "Epoch[8/10], Step [170/469], Reconst Loss: 113.8638, KL Div: 5.6984, Entropy: 0.1502, NMI: 0.9033\n",
            "Epoch[8/10], Step [180/469], Reconst Loss: 114.1971, KL Div: 5.7617, Entropy: 0.1023, NMI: 0.9639\n",
            "Epoch[8/10], Step [190/469], Reconst Loss: 118.4780, KL Div: 5.6101, Entropy: 0.2092, NMI: 0.9177\n",
            "Epoch[8/10], Step [200/469], Reconst Loss: 116.3452, KL Div: 5.9889, Entropy: 0.2096, NMI: 0.8847\n",
            "Epoch[8/10], Step [210/469], Reconst Loss: 111.7274, KL Div: 5.9611, Entropy: 0.2836, NMI: 0.8845\n",
            "Epoch[8/10], Step [220/469], Reconst Loss: 120.3922, KL Div: 5.9661, Entropy: 0.1308, NMI: 0.9383\n",
            "Epoch[8/10], Step [230/469], Reconst Loss: 108.4715, KL Div: 5.8669, Entropy: 0.1106, NMI: 0.9335\n",
            "Epoch[8/10], Step [240/469], Reconst Loss: 111.5537, KL Div: 5.7685, Entropy: 0.1476, NMI: 0.9164\n",
            "Epoch[8/10], Step [250/469], Reconst Loss: 122.5878, KL Div: 6.3656, Entropy: 0.1886, NMI: 0.8812\n",
            "Epoch[8/10], Step [260/469], Reconst Loss: 116.4390, KL Div: 5.8693, Entropy: 0.1841, NMI: 0.9141\n",
            "Epoch[8/10], Step [270/469], Reconst Loss: 110.9111, KL Div: 6.0335, Entropy: 0.1390, NMI: 0.9116\n",
            "Epoch[8/10], Step [280/469], Reconst Loss: 117.9956, KL Div: 5.7105, Entropy: 0.1791, NMI: 0.9005\n",
            "Epoch[8/10], Step [290/469], Reconst Loss: 114.1661, KL Div: 5.9177, Entropy: 0.0964, NMI: 0.9558\n",
            "Epoch[8/10], Step [300/469], Reconst Loss: 113.3503, KL Div: 5.8210, Entropy: 0.1829, NMI: 0.9158\n",
            "Epoch[8/10], Step [310/469], Reconst Loss: 116.0812, KL Div: 5.9901, Entropy: 0.1979, NMI: 0.9082\n",
            "Epoch[8/10], Step [320/469], Reconst Loss: 108.9483, KL Div: 5.6960, Entropy: 0.1788, NMI: 0.8894\n",
            "Epoch[8/10], Step [330/469], Reconst Loss: 115.1284, KL Div: 5.5462, Entropy: 0.2361, NMI: 0.9155\n",
            "Epoch[8/10], Step [340/469], Reconst Loss: 110.6830, KL Div: 5.7556, Entropy: 0.1114, NMI: 0.9629\n",
            "Epoch[8/10], Step [350/469], Reconst Loss: 110.9319, KL Div: 5.6909, Entropy: 0.2035, NMI: 0.8704\n",
            "Epoch[8/10], Step [360/469], Reconst Loss: 112.0845, KL Div: 5.7052, Entropy: 0.1170, NMI: 0.9404\n",
            "Epoch[8/10], Step [370/469], Reconst Loss: 109.6500, KL Div: 5.9233, Entropy: 0.1741, NMI: 0.9180\n",
            "Epoch[8/10], Step [380/469], Reconst Loss: 114.4090, KL Div: 5.3557, Entropy: 0.2044, NMI: 0.8844\n",
            "Epoch[8/10], Step [390/469], Reconst Loss: 114.3711, KL Div: 5.6941, Entropy: 0.2233, NMI: 0.8830\n",
            "Epoch[8/10], Step [400/469], Reconst Loss: 112.9497, KL Div: 5.7972, Entropy: 0.1764, NMI: 0.9310\n",
            "Epoch[8/10], Step [410/469], Reconst Loss: 118.2473, KL Div: 5.9072, Entropy: 0.1721, NMI: 0.9278\n",
            "Epoch[8/10], Step [420/469], Reconst Loss: 113.2878, KL Div: 6.1001, Entropy: 0.1532, NMI: 0.9159\n",
            "Epoch[8/10], Step [430/469], Reconst Loss: 117.0116, KL Div: 5.8838, Entropy: 0.1766, NMI: 0.9021\n",
            "Epoch[8/10], Step [440/469], Reconst Loss: 112.9457, KL Div: 5.7077, Entropy: 0.1908, NMI: 0.9506\n",
            "Epoch[8/10], Step [450/469], Reconst Loss: 114.8872, KL Div: 5.7260, Entropy: 0.1291, NMI: 0.9453\n",
            "Epoch[8/10], Step [460/469], Reconst Loss: 113.2985, KL Div: 6.0151, Entropy: 0.2307, NMI: 0.8684\n",
            "Epoch[9/10], Step [10/469], Reconst Loss: 113.0028, KL Div: 5.6323, Entropy: 0.1687, NMI: 0.9259\n",
            "Epoch[9/10], Step [20/469], Reconst Loss: 115.3344, KL Div: 5.8951, Entropy: 0.2012, NMI: 0.8686\n",
            "Epoch[9/10], Step [30/469], Reconst Loss: 112.9820, KL Div: 6.0429, Entropy: 0.0766, NMI: 0.9614\n",
            "Epoch[9/10], Step [40/469], Reconst Loss: 115.9567, KL Div: 5.9210, Entropy: 0.1099, NMI: 0.9528\n",
            "Epoch[9/10], Step [50/469], Reconst Loss: 109.5227, KL Div: 5.4202, Entropy: 0.1990, NMI: 0.9387\n",
            "Epoch[9/10], Step [60/469], Reconst Loss: 118.3548, KL Div: 5.7451, Entropy: 0.2729, NMI: 0.8679\n",
            "Epoch[9/10], Step [70/469], Reconst Loss: 107.7499, KL Div: 5.9142, Entropy: 0.1229, NMI: 0.9382\n",
            "Epoch[9/10], Step [80/469], Reconst Loss: 116.8844, KL Div: 5.6349, Entropy: 0.1595, NMI: 0.8896\n",
            "Epoch[9/10], Step [90/469], Reconst Loss: 116.2337, KL Div: 5.7804, Entropy: 0.1751, NMI: 0.9046\n",
            "Epoch[9/10], Step [100/469], Reconst Loss: 113.7363, KL Div: 5.6532, Entropy: 0.1942, NMI: 0.9035\n",
            "Epoch[9/10], Step [110/469], Reconst Loss: 110.7125, KL Div: 5.7970, Entropy: 0.1812, NMI: 0.8860\n",
            "Epoch[9/10], Step [120/469], Reconst Loss: 115.1267, KL Div: 5.9405, Entropy: 0.1155, NMI: 0.9390\n",
            "Epoch[9/10], Step [130/469], Reconst Loss: 116.8736, KL Div: 5.9735, Entropy: 0.1394, NMI: 0.9035\n",
            "Epoch[9/10], Step [140/469], Reconst Loss: 117.4944, KL Div: 5.8639, Entropy: 0.1543, NMI: 0.9285\n",
            "Epoch[9/10], Step [150/469], Reconst Loss: 115.6492, KL Div: 6.1420, Entropy: 0.1718, NMI: 0.8743\n",
            "Epoch[9/10], Step [160/469], Reconst Loss: 114.4584, KL Div: 6.2313, Entropy: 0.1421, NMI: 0.9206\n",
            "Epoch[9/10], Step [170/469], Reconst Loss: 116.1253, KL Div: 5.7676, Entropy: 0.1735, NMI: 0.9304\n",
            "Epoch[9/10], Step [180/469], Reconst Loss: 110.9799, KL Div: 5.9447, Entropy: 0.1142, NMI: 0.9407\n",
            "Epoch[9/10], Step [190/469], Reconst Loss: 109.5279, KL Div: 5.5253, Entropy: 0.1309, NMI: 0.9325\n",
            "Epoch[9/10], Step [200/469], Reconst Loss: 112.0701, KL Div: 5.9363, Entropy: 0.0871, NMI: 0.9506\n",
            "Epoch[9/10], Step [210/469], Reconst Loss: 111.1904, KL Div: 5.6097, Entropy: 0.1554, NMI: 0.9258\n",
            "Epoch[9/10], Step [220/469], Reconst Loss: 118.8215, KL Div: 5.9118, Entropy: 0.2320, NMI: 0.8819\n",
            "Epoch[9/10], Step [230/469], Reconst Loss: 118.7138, KL Div: 5.8866, Entropy: 0.2090, NMI: 0.8968\n",
            "Epoch[9/10], Step [240/469], Reconst Loss: 115.1601, KL Div: 5.8056, Entropy: 0.1119, NMI: 0.9533\n",
            "Epoch[9/10], Step [250/469], Reconst Loss: 113.3712, KL Div: 5.7025, Entropy: 0.2752, NMI: 0.9176\n",
            "Epoch[9/10], Step [260/469], Reconst Loss: 115.5416, KL Div: 6.1579, Entropy: 0.1748, NMI: 0.9197\n",
            "Epoch[9/10], Step [270/469], Reconst Loss: 112.3905, KL Div: 5.9590, Entropy: 0.0858, NMI: 0.9743\n",
            "Epoch[9/10], Step [280/469], Reconst Loss: 115.2742, KL Div: 5.9823, Entropy: 0.0539, NMI: 0.9758\n",
            "Epoch[9/10], Step [290/469], Reconst Loss: 112.9136, KL Div: 5.5813, Entropy: 0.2749, NMI: 0.8794\n",
            "Epoch[9/10], Step [300/469], Reconst Loss: 110.7345, KL Div: 5.7209, Entropy: 0.1567, NMI: 0.8783\n",
            "Epoch[9/10], Step [310/469], Reconst Loss: 111.7002, KL Div: 5.9578, Entropy: 0.1532, NMI: 0.9328\n",
            "Epoch[9/10], Step [320/469], Reconst Loss: 115.4112, KL Div: 5.7561, Entropy: 0.1770, NMI: 0.9111\n",
            "Epoch[9/10], Step [330/469], Reconst Loss: 115.3349, KL Div: 5.8794, Entropy: 0.1027, NMI: 0.9238\n",
            "Epoch[9/10], Step [340/469], Reconst Loss: 110.0070, KL Div: 5.9030, Entropy: 0.1448, NMI: 0.9239\n",
            "Epoch[9/10], Step [350/469], Reconst Loss: 113.4196, KL Div: 5.8997, Entropy: 0.1433, NMI: 0.9312\n",
            "Epoch[9/10], Step [360/469], Reconst Loss: 115.0414, KL Div: 5.6993, Entropy: 0.2122, NMI: 0.8945\n",
            "Epoch[9/10], Step [370/469], Reconst Loss: 109.4023, KL Div: 5.7310, Entropy: 0.1125, NMI: 0.9505\n",
            "Epoch[9/10], Step [380/469], Reconst Loss: 109.4253, KL Div: 5.7921, Entropy: 0.0576, NMI: 0.9882\n",
            "Epoch[9/10], Step [390/469], Reconst Loss: 113.3463, KL Div: 6.0057, Entropy: 0.2142, NMI: 0.8822\n",
            "Epoch[9/10], Step [400/469], Reconst Loss: 121.9794, KL Div: 5.9956, Entropy: 0.1402, NMI: 0.9263\n",
            "Epoch[9/10], Step [410/469], Reconst Loss: 113.9866, KL Div: 5.9893, Entropy: 0.2518, NMI: 0.9123\n",
            "Epoch[9/10], Step [420/469], Reconst Loss: 116.1977, KL Div: 5.6870, Entropy: 0.1725, NMI: 0.9405\n",
            "Epoch[9/10], Step [430/469], Reconst Loss: 112.6462, KL Div: 5.9722, Entropy: 0.1568, NMI: 0.9008\n",
            "Epoch[9/10], Step [440/469], Reconst Loss: 114.6001, KL Div: 5.7562, Entropy: 0.2641, NMI: 0.8714\n",
            "Epoch[9/10], Step [450/469], Reconst Loss: 108.6387, KL Div: 5.8873, Entropy: 0.1035, NMI: 0.9405\n",
            "Epoch[9/10], Step [460/469], Reconst Loss: 113.6086, KL Div: 6.0337, Entropy: 0.2268, NMI: 0.8856\n",
            "Epoch[10/10], Step [10/469], Reconst Loss: 117.1383, KL Div: 6.0047, Entropy: 0.2588, NMI: 0.8828\n",
            "Epoch[10/10], Step [20/469], Reconst Loss: 109.3538, KL Div: 5.6289, Entropy: 0.1691, NMI: 0.9270\n",
            "Epoch[10/10], Step [30/469], Reconst Loss: 120.2794, KL Div: 6.1927, Entropy: 0.1549, NMI: 0.9289\n",
            "Epoch[10/10], Step [40/469], Reconst Loss: 110.2249, KL Div: 5.6043, Entropy: 0.1416, NMI: 0.9083\n",
            "Epoch[10/10], Step [50/469], Reconst Loss: 116.4624, KL Div: 5.9777, Entropy: 0.1568, NMI: 0.9121\n",
            "Epoch[10/10], Step [60/469], Reconst Loss: 113.5862, KL Div: 6.0950, Entropy: 0.1955, NMI: 0.8911\n",
            "Epoch[10/10], Step [70/469], Reconst Loss: 113.0462, KL Div: 6.0212, Entropy: 0.1531, NMI: 0.9279\n",
            "Epoch[10/10], Step [80/469], Reconst Loss: 109.1043, KL Div: 5.7212, Entropy: 0.1113, NMI: 0.9408\n",
            "Epoch[10/10], Step [90/469], Reconst Loss: 113.0639, KL Div: 5.6183, Entropy: 0.2694, NMI: 0.8633\n",
            "Epoch[10/10], Step [100/469], Reconst Loss: 109.5130, KL Div: 6.0921, Entropy: 0.1061, NMI: 0.9510\n",
            "Epoch[10/10], Step [110/469], Reconst Loss: 113.1763, KL Div: 5.9727, Entropy: 0.2037, NMI: 0.9093\n",
            "Epoch[10/10], Step [120/469], Reconst Loss: 115.1543, KL Div: 6.1199, Entropy: 0.2066, NMI: 0.9041\n",
            "Epoch[10/10], Step [130/469], Reconst Loss: 116.3093, KL Div: 5.9830, Entropy: 0.1534, NMI: 0.9411\n",
            "Epoch[10/10], Step [140/469], Reconst Loss: 113.4195, KL Div: 6.0330, Entropy: 0.1869, NMI: 0.9501\n",
            "Epoch[10/10], Step [150/469], Reconst Loss: 113.2500, KL Div: 5.9288, Entropy: 0.1013, NMI: 0.9391\n",
            "Epoch[10/10], Step [160/469], Reconst Loss: 115.2360, KL Div: 5.5889, Entropy: 0.1396, NMI: 0.9388\n",
            "Epoch[10/10], Step [170/469], Reconst Loss: 114.3614, KL Div: 5.9339, Entropy: 0.1687, NMI: 0.9046\n",
            "Epoch[10/10], Step [180/469], Reconst Loss: 109.2108, KL Div: 5.5017, Entropy: 0.0837, NMI: 0.9638\n",
            "Epoch[10/10], Step [190/469], Reconst Loss: 111.3004, KL Div: 6.0170, Entropy: 0.0712, NMI: 0.9630\n",
            "Epoch[10/10], Step [200/469], Reconst Loss: 114.4668, KL Div: 5.8194, Entropy: 0.1215, NMI: 0.9389\n",
            "Epoch[10/10], Step [210/469], Reconst Loss: 118.4936, KL Div: 5.9308, Entropy: 0.1189, NMI: 0.9143\n",
            "Epoch[10/10], Step [220/469], Reconst Loss: 113.0592, KL Div: 5.7773, Entropy: 0.2757, NMI: 0.9034\n",
            "Epoch[10/10], Step [230/469], Reconst Loss: 110.4739, KL Div: 5.9304, Entropy: 0.1279, NMI: 0.9210\n",
            "Epoch[10/10], Step [240/469], Reconst Loss: 117.3338, KL Div: 6.0651, Entropy: 0.1484, NMI: 0.9067\n",
            "Epoch[10/10], Step [250/469], Reconst Loss: 114.8183, KL Div: 5.9197, Entropy: 0.2309, NMI: 0.8538\n",
            "Epoch[10/10], Step [260/469], Reconst Loss: 117.4308, KL Div: 6.0793, Entropy: 0.1070, NMI: 0.9500\n",
            "Epoch[10/10], Step [270/469], Reconst Loss: 111.3765, KL Div: 5.6548, Entropy: 0.1427, NMI: 0.9146\n",
            "Epoch[10/10], Step [280/469], Reconst Loss: 113.8388, KL Div: 6.2225, Entropy: 0.1563, NMI: 0.8746\n",
            "Epoch[10/10], Step [290/469], Reconst Loss: 114.8653, KL Div: 6.0306, Entropy: 0.1230, NMI: 0.9187\n",
            "Epoch[10/10], Step [300/469], Reconst Loss: 110.6394, KL Div: 5.6606, Entropy: 0.1212, NMI: 0.9284\n",
            "Epoch[10/10], Step [310/469], Reconst Loss: 112.5675, KL Div: 5.5957, Entropy: 0.1069, NMI: 0.9293\n",
            "Epoch[10/10], Step [320/469], Reconst Loss: 113.6375, KL Div: 5.8572, Entropy: 0.1642, NMI: 0.9080\n",
            "Epoch[10/10], Step [330/469], Reconst Loss: 115.4511, KL Div: 5.7731, Entropy: 0.1246, NMI: 0.9564\n",
            "Epoch[10/10], Step [340/469], Reconst Loss: 109.4032, KL Div: 5.8963, Entropy: 0.1004, NMI: 0.9630\n",
            "Epoch[10/10], Step [350/469], Reconst Loss: 114.3347, KL Div: 6.2445, Entropy: 0.2253, NMI: 0.8807\n",
            "Epoch[10/10], Step [360/469], Reconst Loss: 107.1814, KL Div: 5.7948, Entropy: 0.0951, NMI: 0.9767\n",
            "Epoch[10/10], Step [370/469], Reconst Loss: 112.4222, KL Div: 5.9813, Entropy: 0.0594, NMI: 0.9755\n",
            "Epoch[10/10], Step [380/469], Reconst Loss: 111.8685, KL Div: 5.6949, Entropy: 0.0836, NMI: 0.9441\n",
            "Epoch[10/10], Step [390/469], Reconst Loss: 114.0746, KL Div: 6.0924, Entropy: 0.0619, NMI: 0.9752\n",
            "Epoch[10/10], Step [400/469], Reconst Loss: 116.6094, KL Div: 6.0752, Entropy: 0.1442, NMI: 0.9343\n",
            "Epoch[10/10], Step [410/469], Reconst Loss: 114.6667, KL Div: 5.8933, Entropy: 0.1214, NMI: 0.9331\n",
            "Epoch[10/10], Step [420/469], Reconst Loss: 117.5587, KL Div: 6.2999, Entropy: 0.1662, NMI: 0.8899\n",
            "Epoch[10/10], Step [430/469], Reconst Loss: 110.7421, KL Div: 5.5823, Entropy: 0.1169, NMI: 0.9049\n",
            "Epoch[10/10], Step [440/469], Reconst Loss: 112.3365, KL Div: 6.0866, Entropy: 0.1326, NMI: 0.9305\n",
            "Epoch[10/10], Step [450/469], Reconst Loss: 113.5904, KL Div: 5.7064, Entropy: 0.1649, NMI: 0.9272\n",
            "Epoch[10/10], Step [460/469], Reconst Loss: 108.4867, KL Div: 5.8999, Entropy: 0.1198, NMI: 0.9648\n"
          ],
          "name": "stdout"
        }
      ]
    },
    {
      "metadata": {
        "id": "a1wPoOXq8hy6",
        "colab_type": "code",
        "colab": {}
      },
      "cell_type": "code",
      "source": [
        "matrix = np.zeros((8,n_classes))\n",
        "matrix[:,0] = 1\n",
        "final = matrix[:]\n",
        "for i in range(1,n_classes):\n",
        "    final = np.vstack((final,np.roll(matrix,i)))"
      ],
      "execution_count": 0,
      "outputs": []
    },
    {
      "metadata": {
        "id": "3MsdEzo27WBS",
        "colab_type": "code",
        "colab": {
          "base_uri": "https://localhost:8080/",
          "height": 269
        },
        "outputId": "62d9b3ab-70fe-43c6-d98e-ef6b2e6cad65"
      },
      "cell_type": "code",
      "source": [
        "with torch.no_grad():\n",
        "        z = torch.randn(8*n_classes, z_dim).to(device)\n",
        "        y_onehot = torch.tensor(final).type(torch.FloatTensor).to(device)\n",
        "        out = model_G.decode(z,y_onehot).view(-1, 1, 28, 28)\n",
        "out_grid = torchvision.utils.make_grid(out).cpu()\n",
        "show(out_grid)"
      ],
      "execution_count": 49,
      "outputs": [
        {
          "output_type": "display_data",
          "data": {
            "image/png": "[encoded data removed]",
            "text/plain": [
              "<matplotlib.figure.Figure at 0x7f7720d4ae10>"
            ]
          },
          "metadata": {
            "tags": []
          }
        }
      ]
    },
    {
      "metadata": {
        "id": "ImnXSXUz7nQa",
        "colab_type": "code",
        "colab": {
          "base_uri": "https://localhost:8080/",
          "height": 118
        },
        "outputId": "90561df2-7ea6-4b7f-c644-5ba0156c4200"
      },
      "cell_type": "code",
      "source": [
        "x,_ = next(iter(data_loader))\n",
        "x = x[:24,:,:,:].to(device)\n",
        "out, _, _, log_p = model_G(x.view(-1, image_size)) \n",
        "x_concat = torch.cat([x.view(-1, 1, 28, 28), out.view(-1, 1, 28, 28)], dim=3)\n",
        "out_grid = torchvision.utils.make_grid(x_concat).cpu().data\n",
        "show(out_grid)"
      ],
      "execution_count": 50,
      "outputs": [
        {
          "output_type": "display_data",
          "data": {
            "image/png": "[encoded data removed]",
            "text/plain": [
              "<matplotlib.figure.Figure at 0x7f7720d4aa58>"
            ]
          },
          "metadata": {
            "tags": []
          }
        }
      ]
    },
    {
      "metadata": {
        "id": "Iyd-yXm5JUEi",
        "colab_type": "text"
      },
      "cell_type": "markdown",
      "source": [
        "I tried different beta, C_z, C_c while keeping epochs to 10. I found that beta = 4., C_z = 5, C_c = 10 is quite alright. We still see that \"ghost\" effect. These numbers are heuristical because I found them only by looking generation and reconstruction, but for better results we could take into account ours losses and try with several beta, C_z and C_c ( gradually increase from one value to another one ) to get the lowest loss !\n",
        "\n",
        "The structure of our network is very simple. Indeed, we only use FC layer but we could do Conv and Deconv layers ( because we are working with images ) and these layers take more spatial information which is very good for images.\n",
        "\n",
        "And In addition, if generation is what we really want, we could use a GAN structure which is very effective these days for generating new images that looks like real !\n",
        "\n"
      ]
    },
    {
      "metadata": {
        "id": "Y6wvUaK48Mti",
        "colab_type": "code",
        "colab": {}
      },
      "cell_type": "code",
      "source": [
        ""
      ],
      "execution_count": 0,
      "outputs": []
    }
  ]
}
